{
 "cells": [
  {
   "cell_type": "markdown",
   "id": "b1d303ad",
   "metadata": {},
   "source": [
    "python functions- Positional Arguments"
   ]
  },
  {
   "cell_type": "code",
   "execution_count": 2,
   "id": "99db97c0",
   "metadata": {},
   "outputs": [
    {
     "name": "stdout",
     "output_type": "stream",
     "text": [
      "jhon\n",
      "22\n"
     ]
    }
   ],
   "source": [
    "def person(name,age):\n",
    "    print(name)\n",
    "    print(age)\n",
    "    \n",
    "person('jhon', 22)"
   ]
  },
  {
   "cell_type": "code",
   "execution_count": 3,
   "id": "34baf80a",
   "metadata": {},
   "outputs": [
    {
     "ename": "TypeError",
     "evalue": "person() missing 1 required positional argument: 'age'",
     "output_type": "error",
     "traceback": [
      "\u001b[31m---------------------------------------------------------------------------\u001b[39m",
      "\u001b[31mTypeError\u001b[39m                                 Traceback (most recent call last)",
      "\u001b[36mCell\u001b[39m\u001b[36m \u001b[39m\u001b[32mIn[3]\u001b[39m\u001b[32m, line 5\u001b[39m\n\u001b[32m      2\u001b[39m     \u001b[38;5;28mprint\u001b[39m(name)\n\u001b[32m      3\u001b[39m     \u001b[38;5;28mprint\u001b[39m(age)\n\u001b[32m----> \u001b[39m\u001b[32m5\u001b[39m \u001b[43mperson\u001b[49m\u001b[43m(\u001b[49m\u001b[33;43m'\u001b[39;49m\u001b[33;43muma\u001b[39;49m\u001b[33;43m'\u001b[39;49m\u001b[43m)\u001b[49m\n",
      "\u001b[31mTypeError\u001b[39m: person() missing 1 required positional argument: 'age'"
     ]
    }
   ],
   "source": [
    "def person(name,age):\n",
    "    print(name)\n",
    "    print(age)\n",
    "    \n",
    "person('uma')"
   ]
  },
  {
   "cell_type": "code",
   "execution_count": 4,
   "metadata": {},
   "outputs": [
    {
     "ename": "TypeError",
     "evalue": "person() missing 1 required positional argument: 'age'",
     "output_type": "error",
     "traceback": [
      "\u001b[31m---------------------------------------------------------------------------\u001b[39m",
      "\u001b[31mTypeError\u001b[39m                                 Traceback (most recent call last)",
      "\u001b[36mCell\u001b[39m\u001b[36m \u001b[39m\u001b[32mIn[4]\u001b[39m\u001b[32m, line 5\u001b[39m\n\u001b[32m      2\u001b[39m     \u001b[38;5;28mprint\u001b[39m(name)\n\u001b[32m      3\u001b[39m     \u001b[38;5;28mprint\u001b[39m(age)\n\u001b[32m----> \u001b[39m\u001b[32m5\u001b[39m \u001b[43mperson\u001b[49m\u001b[43m(\u001b[49m\u001b[32;43m22\u001b[39;49m\u001b[43m)\u001b[49m\n",
      "\u001b[31mTypeError\u001b[39m: person() missing 1 required positional argument: 'age'"
     ]
    }
   ],
   "source": [
    "def person(name,age):\n",
    "    print(name)\n",
    "    print(age)\n",
    "    \n",
    "person(22)"
   ]
  },
  {
   "cell_type": "code",
   "execution_count": 5,
   "metadata": {},
   "outputs": [
    {
     "ename": "TypeError",
     "evalue": "person() takes 2 positional arguments but 5 were given",
     "output_type": "error",
     "traceback": [
      "\u001b[31m---------------------------------------------------------------------------\u001b[39m",
      "\u001b[31mTypeError\u001b[39m                                 Traceback (most recent call last)",
      "\u001b[36mCell\u001b[39m\u001b[36m \u001b[39m\u001b[32mIn[5]\u001b[39m\u001b[32m, line 5\u001b[39m\n\u001b[32m      2\u001b[39m     \u001b[38;5;28mprint\u001b[39m(name)\n\u001b[32m      3\u001b[39m     \u001b[38;5;28mprint\u001b[39m(age)\n\u001b[32m----> \u001b[39m\u001b[32m5\u001b[39m \u001b[43mperson\u001b[49m\u001b[43m(\u001b[49m\u001b[33;43m'\u001b[39;49m\u001b[33;43mscot\u001b[39;49m\u001b[33;43m'\u001b[39;49m\u001b[43m,\u001b[49m\u001b[43m \u001b[49m\u001b[32;43m22\u001b[39;49m\u001b[43m,\u001b[49m\u001b[43m \u001b[49m\u001b[32;43m23\u001b[39;49m\u001b[43m,\u001b[49m\u001b[43m \u001b[49m\u001b[32;43m45\u001b[39;49m\u001b[43m,\u001b[49m\u001b[43m \u001b[49m\u001b[32;43m56\u001b[39;49m\u001b[43m)\u001b[49m\n",
      "\u001b[31mTypeError\u001b[39m: person() takes 2 positional arguments but 5 were given"
     ]
    }
   ],
   "source": [
    "def person(name,age):\n",
    "    print(name)\n",
    "    print(age)\n",
    "    \n",
    "person('scot', 22, 23, 45, 56)"
   ]
  },
  {
   "cell_type": "code",
   "execution_count": 6,
   "metadata": {},
   "outputs": [
    {
     "name": "stdout",
     "output_type": "stream",
     "text": [
      "22\n"
     ]
    },
    {
     "ename": "TypeError",
     "evalue": "unsupported operand type(s) for -: 'str' and 'int'",
     "output_type": "error",
     "traceback": [
      "\u001b[31m---------------------------------------------------------------------------\u001b[39m",
      "\u001b[31mTypeError\u001b[39m                                 Traceback (most recent call last)",
      "\u001b[36mCell\u001b[39m\u001b[36m \u001b[39m\u001b[32mIn[6]\u001b[39m\u001b[32m, line 5\u001b[39m\n\u001b[32m      2\u001b[39m     \u001b[38;5;28mprint\u001b[39m(name)\n\u001b[32m      3\u001b[39m     \u001b[38;5;28mprint\u001b[39m(age-\u001b[32m1\u001b[39m)\n\u001b[32m----> \u001b[39m\u001b[32m5\u001b[39m \u001b[43mperson\u001b[49m\u001b[43m(\u001b[49m\u001b[32;43m22\u001b[39;49m\u001b[43m,\u001b[49m\u001b[43m \u001b[49m\u001b[33;43m'\u001b[39;49m\u001b[33;43mnit\u001b[39;49m\u001b[33;43m'\u001b[39;49m\u001b[43m)\u001b[49m \n",
      "\u001b[36mCell\u001b[39m\u001b[36m \u001b[39m\u001b[32mIn[6]\u001b[39m\u001b[32m, line 3\u001b[39m, in \u001b[36mperson\u001b[39m\u001b[34m(name, age)\u001b[39m\n\u001b[32m      1\u001b[39m \u001b[38;5;28;01mdef\u001b[39;00m\u001b[38;5;250m \u001b[39m\u001b[34mperson\u001b[39m(name, age):\n\u001b[32m      2\u001b[39m     \u001b[38;5;28mprint\u001b[39m(name)\n\u001b[32m----> \u001b[39m\u001b[32m3\u001b[39m     \u001b[38;5;28mprint\u001b[39m(\u001b[43mage\u001b[49m\u001b[43m-\u001b[49m\u001b[32;43m1\u001b[39;49m)\n",
      "\u001b[31mTypeError\u001b[39m: unsupported operand type(s) for -: 'str' and 'int'"
     ]
    }
   ],
   "source": [
    "def person(name, age):\n",
    "    print(name)\n",
    "    print(age-1)\n",
    "\n",
    "person(22, 'nit') "
   ]
  },
  {
   "cell_type": "markdown",
   "id": "5d2697e4",
   "metadata": {},
   "source": [
    "Keyword Arguments"
   ]
  },
  {
   "cell_type": "code",
   "execution_count": 7,
   "id": "4a08adb8",
   "metadata": {},
   "outputs": [
    {
     "name": "stdout",
     "output_type": "stream",
     "text": [
      "leo\n",
      "21\n"
     ]
    }
   ],
   "source": [
    "def person(name, age):\n",
    "    print(name)\n",
    "    print(age-1)\n",
    "\n",
    "person(age = 22, name = 'leo') "
   ]
  },
  {
   "cell_type": "code",
   "execution_count": 8,
   "metadata": {},
   "outputs": [
    {
     "ename": "TypeError",
     "evalue": "person() missing 1 required positional argument: 'new_age'",
     "output_type": "error",
     "traceback": [
      "\u001b[31m---------------------------------------------------------------------------\u001b[39m",
      "\u001b[31mTypeError\u001b[39m                                 Traceback (most recent call last)",
      "\u001b[36mCell\u001b[39m\u001b[36m \u001b[39m\u001b[32mIn[8]\u001b[39m\u001b[32m, line 5\u001b[39m\n\u001b[32m      2\u001b[39m     \u001b[38;5;28mprint\u001b[39m(name)\n\u001b[32m      3\u001b[39m     \u001b[38;5;28mprint\u001b[39m(age-\u001b[32m1\u001b[39m)\n\u001b[32m----> \u001b[39m\u001b[32m5\u001b[39m \u001b[43mperson\u001b[49m\u001b[43m(\u001b[49m\u001b[43mage\u001b[49m\u001b[43m \u001b[49m\u001b[43m=\u001b[49m\u001b[43m \u001b[49m\u001b[32;43m22\u001b[39;49m\u001b[43m,\u001b[49m\u001b[43m \u001b[49m\u001b[43mname\u001b[49m\u001b[43m \u001b[49m\u001b[43m=\u001b[49m\u001b[43m \u001b[49m\u001b[33;43m'\u001b[39;49m\u001b[33;43mnit\u001b[39;49m\u001b[33;43m'\u001b[39;49m\u001b[43m)\u001b[49m \n",
      "\u001b[31mTypeError\u001b[39m: person() missing 1 required positional argument: 'new_age'"
     ]
    }
   ],
   "source": [
    "def person(name, age, new_age ):\n",
    "    print(name)\n",
    "    print(age-1)\n",
    "\n",
    "person(age = 22, name = 'nit') "
   ]
  },
  {
   "cell_type": "code",
   "execution_count": 9,
   "id": "82f37284",
   "metadata": {},
   "outputs": [
    {
     "name": "stdout",
     "output_type": "stream",
     "text": [
      "scot\n",
      "21\n",
      "23\n"
     ]
    }
   ],
   "source": [
    "def person(name, age, new_age ):\n",
    "    print(name)\n",
    "    print(age-1)\n",
    "    print(new_age)\n",
    "\n",
    "person(age = 22, name = 'scot',  new_age=23) "
   ]
  },
  {
   "cell_type": "markdown",
   "id": "21db5807",
   "metadata": {},
   "source": [
    "Default Arguments"
   ]
  },
  {
   "cell_type": "code",
   "execution_count": 10,
   "id": "e97ac22b",
   "metadata": {},
   "outputs": [
    {
     "name": "stdout",
     "output_type": "stream",
     "text": [
      "uma\n",
      "18\n"
     ]
    }
   ],
   "source": [
    "def person(name, age=18):\n",
    "    print(name)\n",
    "    print(age)\n",
    "\n",
    "person('uma')"
   ]
  },
  {
   "cell_type": "code",
   "execution_count": 12,
   "id": "056c0f4d",
   "metadata": {},
   "outputs": [
    {
     "name": "stdout",
     "output_type": "stream",
     "text": [
      "uma\n",
      "40\n"
     ]
    }
   ],
   "source": [
    "def person(name, age=18):\n",
    "    print(name)\n",
    "    print(age)\n",
    "\n",
    "person('uma', 40)"
   ]
  },
  {
   "cell_type": "markdown",
   "id": "580694a9",
   "metadata": {},
   "source": [
    "Variable lenght arguments"
   ]
  },
  {
   "cell_type": "code",
   "execution_count": 13,
   "metadata": {},
   "outputs": [
    {
     "ename": "TypeError",
     "evalue": "person() takes 2 positional arguments but 6 were given",
     "output_type": "error",
     "traceback": [
      "\u001b[31m---------------------------------------------------------------------------\u001b[39m",
      "\u001b[31mTypeError\u001b[39m                                 Traceback (most recent call last)",
      "\u001b[36mCell\u001b[39m\u001b[36m \u001b[39m\u001b[32mIn[13]\u001b[39m\u001b[32m, line 5\u001b[39m\n\u001b[32m      2\u001b[39m     \u001b[38;5;28mprint\u001b[39m(name)\n\u001b[32m      3\u001b[39m     \u001b[38;5;28mprint\u001b[39m(age)\n\u001b[32m----> \u001b[39m\u001b[32m5\u001b[39m \u001b[43mperson\u001b[49m\u001b[43m(\u001b[49m\u001b[33;43m'\u001b[39;49m\u001b[33;43mnit\u001b[39;49m\u001b[33;43m'\u001b[39;49m\u001b[43m,\u001b[49m\u001b[43m \u001b[49m\u001b[32;43m40\u001b[39;49m\u001b[43m,\u001b[49m\u001b[43m \u001b[49m\u001b[32;43m50\u001b[39;49m\u001b[43m,\u001b[49m\u001b[43m \u001b[49m\u001b[32;43m60\u001b[39;49m\u001b[43m,\u001b[49m\u001b[43m \u001b[49m\u001b[32;43m70\u001b[39;49m\u001b[43m,\u001b[49m\u001b[43m \u001b[49m\u001b[32;43m80\u001b[39;49m\u001b[43m \u001b[49m\u001b[43m)\u001b[49m\n",
      "\u001b[31mTypeError\u001b[39m: person() takes 2 positional arguments but 6 were given"
     ]
    }
   ],
   "source": [
    "def person(name, age):\n",
    "    print(name)\n",
    "    print(age)\n",
    "\n",
    "person('nit', 40, 50, 60, 70, 80 )"
   ]
  },
  {
   "cell_type": "code",
   "execution_count": 15,
   "id": "7da2c056",
   "metadata": {},
   "outputs": [
    {
     "ename": "TypeError",
     "evalue": "sum() takes 2 positional arguments but 4 were given",
     "output_type": "error",
     "traceback": [
      "\u001b[31m---------------------------------------------------------------------------\u001b[39m",
      "\u001b[31mTypeError\u001b[39m                                 Traceback (most recent call last)",
      "\u001b[36mCell\u001b[39m\u001b[36m \u001b[39m\u001b[32mIn[15]\u001b[39m\u001b[32m, line 5\u001b[39m\n\u001b[32m      2\u001b[39m     c = a+b\n\u001b[32m      3\u001b[39m     \u001b[38;5;28mprint\u001b[39m(c)\n\u001b[32m----> \u001b[39m\u001b[32m5\u001b[39m \u001b[38;5;28;43msum\u001b[39;49m\u001b[43m(\u001b[49m\u001b[32;43m5\u001b[39;49m\u001b[43m,\u001b[49m\u001b[32;43m6\u001b[39;49m\u001b[43m,\u001b[49m\u001b[32;43m7\u001b[39;49m\u001b[43m,\u001b[49m\u001b[32;43m8\u001b[39;49m\u001b[43m)\u001b[49m\n",
      "\u001b[31mTypeError\u001b[39m: sum() takes 2 positional arguments but 4 were given"
     ]
    }
   ],
   "source": [
    "def sum(a, b):\n",
    "    c = a+b\n",
    "    print(c)\n",
    "    \n",
    "sum(5,6,7,8)"
   ]
  },
  {
   "cell_type": "code",
   "execution_count": 16,
   "metadata": {},
   "outputs": [
    {
     "name": "stdout",
     "output_type": "stream",
     "text": [
      "<class 'int'>\n",
      "<class 'tuple'>\n"
     ]
    }
   ],
   "source": [
    "def sum(a, *b): # 1st argument is fixed but for 2nd argument\n",
    "    #c = a+b\n",
    "    print(type(a))\n",
    "    print(type(b))\n",
    "\n",
    "sum(5,6,7,8) "
   ]
  },
  {
   "cell_type": "code",
   "execution_count": 17,
   "metadata": {},
   "outputs": [
    {
     "name": "stdout",
     "output_type": "stream",
     "text": [
      "26\n"
     ]
    }
   ],
   "source": [
    "def sum(a, *b): # 1st argument is fixed & we fetch each value from the tuple & we can add them. \n",
    "    c = a   \n",
    "    for i in b:\n",
    "        c = c + i \n",
    "    print(c)\n",
    "        \n",
    "sum(5,6,7,8) "
   ]
  },
  {
   "cell_type": "code",
   "execution_count": 18,
   "metadata": {},
   "outputs": [
    {
     "name": "stdout",
     "output_type": "stream",
     "text": [
      "55\n"
     ]
    }
   ],
   "source": [
    "def sum(a, *b): # 1st argument is fixed & we fetch each value from the tuple & we can add them. \n",
    "    c = a   \n",
    "    for i in b:\n",
    "        c = c + i \n",
    "    print(c)\n",
    "        \n",
    "sum(5,6,7,8,9,20) "
   ]
  },
  {
   "cell_type": "code",
   "execution_count": 19,
   "metadata": {},
   "outputs": [
    {
     "name": "stdout",
     "output_type": "stream",
     "text": [
      "26\n"
     ]
    }
   ],
   "source": [
    "def sum(a, *b): # 1st argument is fixed & we fetch each value from the tuple & we can add them. \n",
    "    c = a\n",
    "    for i in b:\n",
    "        c = c + i \n",
    "    print(c)\n",
    "        \n",
    "sum(5,6,7,8) "
   ]
  },
  {
   "cell_type": "markdown",
   "id": "a4063759",
   "metadata": {},
   "source": [
    "kwargs"
   ]
  },
  {
   "cell_type": "code",
   "execution_count": 20,
   "metadata": {},
   "outputs": [],
   "source": [
    "def person():\n",
    "    person('ALEX', 36, 'JOHN', 987767)"
   ]
  },
  {
   "cell_type": "code",
   "execution_count": 21,
   "metadata": {},
   "outputs": [
    {
     "name": "stdout",
     "output_type": "stream",
     "text": [
      "ALEX\n",
      "(36, 'JOHN', 987767)\n"
     ]
    }
   ],
   "source": [
    "def person(name, *data):\n",
    "    print(name)\n",
    "    print(data)\n",
    "\n",
    "person('ALEX', 36, 'JOHN', 987767)"
   ]
  },
  {
   "cell_type": "code",
   "execution_count": 22,
   "metadata": {},
   "outputs": [
    {
     "ename": "TypeError",
     "evalue": "person() got an unexpected keyword argument 'age'",
     "output_type": "error",
     "traceback": [
      "\u001b[31m---------------------------------------------------------------------------\u001b[39m",
      "\u001b[31mTypeError\u001b[39m                                 Traceback (most recent call last)",
      "\u001b[36mCell\u001b[39m\u001b[36m \u001b[39m\u001b[32mIn[22]\u001b[39m\u001b[32m, line 5\u001b[39m\n\u001b[32m      2\u001b[39m     \u001b[38;5;28mprint\u001b[39m(\u001b[33m'\u001b[39m\u001b[33mname\u001b[39m\u001b[33m'\u001b[39m)\n\u001b[32m      3\u001b[39m     \u001b[38;5;28mprint\u001b[39m(data)\n\u001b[32m----> \u001b[39m\u001b[32m5\u001b[39m \u001b[43mperson\u001b[49m\u001b[43m(\u001b[49m\u001b[33;43m'\u001b[39;49m\u001b[33;43mALEX\u001b[39;49m\u001b[33;43m'\u001b[39;49m\u001b[43m,\u001b[49m\u001b[43m \u001b[49m\u001b[43mage\u001b[49m\u001b[43m \u001b[49m\u001b[43m=\u001b[49m\u001b[43m \u001b[49m\u001b[32;43m36\u001b[39;49m\u001b[43m,\u001b[49m\u001b[43m \u001b[49m\u001b[43mhome_place\u001b[49m\u001b[43m \u001b[49m\u001b[43m=\u001b[49m\u001b[33;43m'\u001b[39;49m\u001b[33;43msouthcity\u001b[39;49m\u001b[33;43m'\u001b[39;49m\u001b[43m,\u001b[49m\u001b[43m \u001b[49m\u001b[43mmob\u001b[49m\u001b[43m \u001b[49m\u001b[43m=\u001b[49m\u001b[32;43m987767\u001b[39;49m\u001b[43m)\u001b[49m\n",
      "\u001b[31mTypeError\u001b[39m: person() got an unexpected keyword argument 'age'"
     ]
    }
   ],
   "source": [
    "def person(name,*data):\n",
    "    print('name')\n",
    "    print(data)\n",
    "\n",
    "person('ALEX', age = 36, home_place ='southcity', mob =987767)"
   ]
  },
  {
   "cell_type": "code",
   "execution_count": 23,
   "id": "547abc09",
   "metadata": {},
   "outputs": [
    {
     "name": "stdout",
     "output_type": "stream",
     "text": [
      "name\n",
      "{'age': 36, 'home_place': 'southcity', 'mob': 987767}\n"
     ]
    }
   ],
   "source": [
    "def person(name, **data):\n",
    "    print('name')\n",
    "    print(data)\n",
    "\n",
    "person('ALEX', age = 36, home_place ='southcity', mob =987767)"
   ]
  },
  {
   "cell_type": "code",
   "execution_count": 24,
   "metadata": {},
   "outputs": [
    {
     "name": "stdout",
     "output_type": "stream",
     "text": [
      "name\n",
      "{'age': 36, 'home_place': 'southcity', 'mob': 987767, 'slary': 40000, 'married': 'yes'}\n"
     ]
    }
   ],
   "source": [
    "def person(name, **data):\n",
    "    print('name')\n",
    "    print(data)\n",
    "\n",
    "person('ALEX', age = 36, home_place ='southcity', mob =987767, slary= 40000, married = 'yes')"
   ]
  },
  {
   "cell_type": "markdown",
   "id": "e5ec184c",
   "metadata": {},
   "source": [
    "global and local variable"
   ]
  },
  {
   "cell_type": "code",
   "execution_count": 25,
   "id": "53866779",
   "metadata": {},
   "outputs": [],
   "source": [
    "a = 10  #-- globla variable \n",
    "\n",
    "def something():\n",
    "    b = 15 #local variable"
   ]
  },
  {
   "cell_type": "code",
   "execution_count": 27,
   "id": "b083f251",
   "metadata": {},
   "outputs": [],
   "source": [
    "a = 10  #-- globla variable \n",
    "\n",
    "def something():\n",
    "    b = 15 #local variable\n",
    "    \n",
    "    print('in function',b)    \n",
    "    print('out function',a)  "
   ]
  },
  {
   "cell_type": "code",
   "execution_count": 28,
   "metadata": {},
   "outputs": [
    {
     "name": "stdout",
     "output_type": "stream",
     "text": [
      "out function 10\n"
     ]
    }
   ],
   "source": [
    "a = 10  \n",
    "def something():\n",
    "    b = 15\n",
    "    print('in function',b)    \n",
    "    \n",
    "print('out function',a)"
   ]
  },
  {
   "cell_type": "code",
   "execution_count": 29,
   "id": "a534f9c5",
   "metadata": {},
   "outputs": [
    {
     "name": "stdout",
     "output_type": "stream",
     "text": [
      "in function 10\n",
      "out function 10\n"
     ]
    }
   ],
   "source": [
    "a = 10  \n",
    "\n",
    "def something():\n",
    "    a = 15\n",
    "    \n",
    "print('in function',a) \n",
    "\n",
    "print('out function',a)"
   ]
  },
  {
   "cell_type": "code",
   "execution_count": 30,
   "id": "f20a2d37",
   "metadata": {},
   "outputs": [
    {
     "name": "stdout",
     "output_type": "stream",
     "text": [
      "in function 15\n",
      "out function 10\n"
     ]
    }
   ],
   "source": [
    "a = 10 \n",
    "\n",
    "def something():\n",
    "    b = 15\n",
    "    print('in function',b)  # local variable\n",
    "something()\n",
    "\n",
    "print('out function',a) #gloabl variable"
   ]
  },
  {
   "cell_type": "code",
   "execution_count": 31,
   "metadata": {},
   "outputs": [
    {
     "name": "stdout",
     "output_type": "stream",
     "text": [
      "in function 10\n",
      "out function 10\n"
     ]
    }
   ],
   "source": [
    "a = 10  \n",
    "\n",
    "def something():\n",
    "    #if we remove this variable then can befault it consider as global variable\n",
    "    print('in function',a)\n",
    "    \n",
    "something()\n",
    "print('out function',a)"
   ]
  },
  {
   "cell_type": "code",
   "execution_count": 32,
   "id": "98af8df8",
   "metadata": {},
   "outputs": [
    {
     "name": "stdout",
     "output_type": "stream",
     "text": [
      "in function 15\n",
      "gloabl variable 10\n",
      "out function 10\n"
     ]
    }
   ],
   "source": [
    "a = 10  \n",
    "def something():\n",
    "    global a \n",
    "    b = 15 # 15 is converted to local when user assigned global a \n",
    "    print('in function',b)\n",
    "    print('gloabl variable', a)\n",
    "    \n",
    "something()\n",
    "\n",
    "print('out function',a)"
   ]
  },
  {
   "cell_type": "code",
   "execution_count": 33,
   "id": "2eb9a33f",
   "metadata": {},
   "outputs": [
    {
     "name": "stdout",
     "output_type": "stream",
     "text": [
      "in function 15\n",
      "out function 15\n"
     ]
    }
   ],
   "source": [
    "a = 20  \n",
    "\n",
    "def something():\n",
    "    global a\n",
    "    a = 15     \n",
    "    print('in function',a)\n",
    "    \n",
    "    a = 15\n",
    "    \n",
    "something()\n",
    "print('out function',a)"
   ]
  },
  {
   "cell_type": "code",
   "execution_count": 34,
   "id": "ed3dc37d",
   "metadata": {},
   "outputs": [
    {
     "name": "stdout",
     "output_type": "stream",
     "text": [
      "15\n"
     ]
    }
   ],
   "source": [
    "x = 10  # Global variable\n",
    "\n",
    "def update_x():\n",
    "    global x  # Declare that we are using the global variable x\n",
    "    x += 5    # Modify the global variable\n",
    "\n",
    "update_x()\n",
    "print(x)  # Output: 15"
   ]
  },
  {
   "cell_type": "code",
   "execution_count": 35,
   "id": "3c9981b8",
   "metadata": {},
   "outputs": [
    {
     "name": "stdout",
     "output_type": "stream",
     "text": [
      "15\n"
     ]
    }
   ],
   "source": [
    "x = 10  # Global variable\n",
    "\n",
    "def update_x():\n",
    "    globals()['x'] += 5  # Access and modify the global variable using the dictionary\n",
    "\n",
    "update_x()\n",
    "print(x)  # Output: 15"
   ]
  }
 ],
 "metadata": {
  "kernelspec": {
   "display_name": "Python 3",
   "language": "python",
   "name": "python3"
  },
  "language_info": {
   "codemirror_mode": {
    "name": "ipython",
    "version": 3
   },
   "file_extension": ".py",
   "mimetype": "text/x-python",
   "name": "python",
   "nbconvert_exporter": "python",
   "pygments_lexer": "ipython3",
   "version": "3.13.5"
  }
 },
 "nbformat": 4,
 "nbformat_minor": 5
}
