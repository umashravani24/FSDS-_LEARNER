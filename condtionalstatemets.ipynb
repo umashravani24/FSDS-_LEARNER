{
 "cells": [
  {
   "cell_type": "code",
   "execution_count": null,
   "id": "04d8cdac",
   "metadata": {},
   "outputs": [
    {
     "name": "stdout",
     "output_type": "stream",
     "text": [
      "9   is odd number\n"
     ]
    }
   ],
   "source": [
    "# program to find whether enter number is even or odd using if statement\n",
    "n=int(input(\"enter a number : \"))\n",
    "rem=n%2\n",
    "if rem==0:\n",
    "    print(n,\"  is a even number\" )\n",
    "if rem==1:\n",
    "    print(n,\"  is odd number\")    \n",
    "    "
   ]
  },
  {
   "cell_type": "code",
   "execution_count": 2,
   "id": "88a9b13d",
   "metadata": {},
   "outputs": [
    {
     "name": "stdout",
     "output_type": "stream",
     "text": [
      "your age is :  14 so you are  not eligible to vote\n"
     ]
    }
   ],
   "source": [
    "#program to display whether a person got vote right or not using if-else statement\n",
    "age=int(input(\"enter a number : \"))\n",
    "if age>=18:\n",
    "    print(\"your age is : \",age,\"so you are eligible to vote\")\n",
    "else:    \n",
    "    print(\"your age is : \",age,\"so you are  not eligible to vote\")"
   ]
  },
  {
   "cell_type": "code",
   "execution_count": 8,
   "id": "3d8c1d46",
   "metadata": {},
   "outputs": [
    {
     "name": "stdout",
     "output_type": "stream",
     "text": [
      "9  is a greater than  6  and  4\n"
     ]
    }
   ],
   "source": [
    "#program to find greatest of three numbers using if elif else statements\n",
    "# Input three numbers\n",
    "n1 = int(input(\"Enter first number: \"))\n",
    "n2 = int(input(\"Enter second number: \"))\n",
    "n3 = int(input(\"Enter third number: \"))\n",
    "\n",
    "# Find the greatest number using if-else\n",
    "if (n1 >= n2 and n1>n3):\n",
    "    print(n1,\" is a greater than \",n2, \" and \",n3)\n",
    "elif(n2>n3):\n",
    "        print(n2,\" is a greater than \",n1, \" and \",n3)\n",
    "else:    \n",
    "        print(n3,\" is a greater than \",n1, \" and \",n2)"
   ]
  },
  {
   "cell_type": "code",
   "execution_count": 9,
   "id": "56e9b1c6",
   "metadata": {},
   "outputs": [
    {
     "name": "stdout",
     "output_type": "stream",
     "text": [
      "2024 is a leap year.\n"
     ]
    }
   ],
   "source": [
    "#program to find given year is leap year or not using nested if else statements\n",
    "year = int(input(\"Enter a year: \"))\n",
    "\n",
    "if (year % 400 == 0):\n",
    "    print(year, \"is a leap year.\")\n",
    "elif (year % 100 == 0):\n",
    "    print(year, \"is not a leap year.\")\n",
    "elif (year % 4 == 0):\n",
    "    print(year, \"is a leap year.\")\n",
    "else:\n",
    "    print(year, \"is not a leap year.\")"
   ]
  },
  {
   "cell_type": "code",
   "execution_count": 12,
   "id": "642bce2a",
   "metadata": {},
   "outputs": [
    {
     "name": "stdout",
     "output_type": "stream",
     "text": [
      "0  means Zero\n"
     ]
    }
   ],
   "source": [
    "#program to find enter number is positive or negitive or zero using nested if else statement\n",
    "n=int(input(\"enter number : \"))\n",
    "if n>0:\n",
    "    print(n,\" is a positive number\")\n",
    "elif n<0:\n",
    "    print(n,\" is a negitive number\")\n",
    "else:\n",
    "    print(n, \" means Zero\")\n",
    "        "
   ]
  },
  {
   "cell_type": "code",
   "execution_count": 13,
   "id": "657d0672",
   "metadata": {},
   "outputs": [
    {
     "name": "stdout",
     "output_type": "stream",
     "text": [
      "three\n"
     ]
    }
   ],
   "source": [
    "#program to write number names using nested if statement\n",
    "x=3\n",
    "if x==1:\n",
    "    print(\"ope \")\n",
    "if x==2:\n",
    "    print(\"two\")\n",
    "if x==3:\n",
    "    print(\"three\")        \n",
    "if x==4:\n",
    "    print(\"four\")    "
   ]
  },
  {
   "cell_type": "code",
   "execution_count": 3,
   "id": "b5df1aeb",
   "metadata": {},
   "outputs": [
    {
     "name": "stdout",
     "output_type": "stream",
     "text": [
      "4 is not prime\n"
     ]
    }
   ],
   "source": [
    "#program to display whether it is prime or not\n",
    "\n",
    "\n",
    "n= int(input(\"Enter a number: \"))\n",
    "count=0\n",
    "i=1\n",
    "for i in range(i,i<=n):\n",
    "    if n%i==0:\n",
    "        count+=1\n",
    "    n+=1\n",
    "if count==2:\n",
    " print(n ,\" is aprime\")      \n",
    "else:\n",
    "     print(n,\"is not prime\")\n",
    "    "
   ]
  },
  {
   "cell_type": "code",
   "execution_count": 5,
   "id": "95ffe53a",
   "metadata": {},
   "outputs": [
    {
     "name": "stdout",
     "output_type": "stream",
     "text": [
      "The factorial of 4 is 24.\n"
     ]
    }
   ],
   "source": [
    "#program of factorail number\n",
    "num = int(input(\"Enter a non-negative integer: \"))\n",
    "\n",
    "if num < 0:\n",
    "    print(\"Factorial is not defined for negative numbers.\")\n",
    "else:\n",
    "    factorial = 1\n",
    "    for i in range(1, num + 1):\n",
    "        factorial *= i\n",
    "    print(f\"The factorial of {num} is {factorial}.\")"
   ]
  },
  {
   "cell_type": "code",
   "execution_count": null,
   "id": "a62b8ddc",
   "metadata": {},
   "outputs": [
    {
     "name": "stdout",
     "output_type": "stream",
     "text": [
      "123 is not a perfect number.\n"
     ]
    }
   ],
   "source": [
    "# program to find perfect number\n",
    "num = int(input(\"Enter a number: \"))\n",
    "\n",
    "if num <= 0:\n",
    "    print(\"Please enter a positive integer.\")\n",
    "else:\n",
    "    sum_divisors = 0\n",
    "    for i in range(1, num):\n",
    "        if num % i == 0:\n",
    "            sum_divisors += i\n",
    "\n",
    "    if sum_divisors == num:\n",
    "        print(num, \"is a perfect number.\")\n",
    "    else:\n",
    "        print(num, \"is not a perfect number.\")"
   ]
  },
  {
   "cell_type": "code",
   "execution_count": 2,
   "id": "7515f055",
   "metadata": {},
   "outputs": [
    {
     "name": "stdout",
     "output_type": "stream",
     "text": [
      "5 is not prime\n"
     ]
    }
   ],
   "source": [
    "n= int(input(\"Enter a number: \"))\n",
    "count=0\n",
    "i=1\n",
    "for i in range(i,i<=n):\n",
    "    if n%i==0:\n",
    "        count+=1\n",
    "    n+=1\n",
    "if count==2:\n",
    " print(n ,\" is aprime\")      \n",
    "else:\n",
    "     print(n,\"is not prime\")"
   ]
  }
 ],
 "metadata": {
  "kernelspec": {
   "display_name": "Python 3",
   "language": "python",
   "name": "python3"
  },
  "language_info": {
   "codemirror_mode": {
    "name": "ipython",
    "version": 3
   },
   "file_extension": ".py",
   "mimetype": "text/x-python",
   "name": "python",
   "nbconvert_exporter": "python",
   "pygments_lexer": "ipython3",
   "version": "3.13.5"
  }
 },
 "nbformat": 4,
 "nbformat_minor": 5
}
