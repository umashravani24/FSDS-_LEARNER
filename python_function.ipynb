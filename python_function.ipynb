{
 "cells": [
  {
   "cell_type": "code",
   "execution_count": 32,
   "id": "22dd2b29",
   "metadata": {},
   "outputs": [],
   "source": [
    "def greet(): \n",
    "    print('hello')\n",
    "    print('world')"
   ]
  },
  {
   "cell_type": "code",
   "execution_count": 33,
   "id": "93f268a5",
   "metadata": {},
   "outputs": [
    {
     "name": "stdout",
     "output_type": "stream",
     "text": [
      "hello\n",
      "world\n"
     ]
    }
   ],
   "source": [
    "def greet(): \n",
    "    print('hello')\n",
    "    print('world')\n",
    "greet()"
   ]
  },
  {
   "cell_type": "code",
   "execution_count": 34,
   "id": "b6d5ebbe",
   "metadata": {},
   "outputs": [
    {
     "name": "stdout",
     "output_type": "stream",
     "text": [
      "hello\n",
      "world\n",
      "hello\n",
      "world\n"
     ]
    }
   ],
   "source": [
    "def greet(): \n",
    "    print('hello')\n",
    "    print('world')\n",
    "greet()\n",
    "\n",
    "def greet(): \n",
    "    print('hello')\n",
    "    print('world')\n",
    "greet()"
   ]
  },
  {
   "cell_type": "code",
   "execution_count": 35,
   "id": "9ee40673",
   "metadata": {},
   "outputs": [
    {
     "name": "stdout",
     "output_type": "stream",
     "text": [
      "hello\n",
      "world\n",
      "\n",
      "hello\n",
      "world\n"
     ]
    }
   ],
   "source": [
    "def greet(): \n",
    "    print('hello')\n",
    "    print('world')\n",
    "greet()\n",
    "\n",
    "print()\n",
    "\n",
    "def greet(): \n",
    "    print('hello')\n",
    "    print('world')\n",
    "greet()"
   ]
  },
  {
   "cell_type": "code",
   "execution_count": 36,
   "id": "195f41b8",
   "metadata": {},
   "outputs": [
    {
     "name": "stdout",
     "output_type": "stream",
     "text": [
      "hello\n",
      "world\n",
      "\n",
      "hello\n",
      "world\n",
      "\n",
      "hello\n",
      "world\n"
     ]
    }
   ],
   "source": [
    "def greet(): \n",
    "    print('hello')\n",
    "    print('world')\n",
    "greet()\n",
    "\n",
    "print()\n",
    "\n",
    "def greet(): \n",
    "    print('hello')\n",
    "    print('world')\n",
    "greet()\n",
    "\n",
    "print()\n",
    "\n",
    "def greet(): \n",
    "    print('hello')\n",
    "    print('world')\n",
    "greet()"
   ]
  },
  {
   "cell_type": "code",
   "execution_count": 37,
   "id": "dea5e4ee",
   "metadata": {},
   "outputs": [
    {
     "name": "stdout",
     "output_type": "stream",
     "text": [
      "hello\n",
      "world\n",
      "***********\n",
      "hello\n",
      "world\n",
      "***********\n",
      "hello\n",
      "world\n"
     ]
    }
   ],
   "source": [
    "def greet():  # declare function without argument\n",
    "    print('hello')\n",
    "    print('world')\n",
    "greet()\n",
    "print('***********')\n",
    "greet()\n",
    "print('***********')\n",
    "greet() # function calling  with out argument) "
   ]
  },
  {
   "cell_type": "code",
   "execution_count": 38,
   "metadata": {},
   "outputs": [
    {
     "name": "stdout",
     "output_type": "stream",
     "text": [
      "hello\n",
      "world\n"
     ]
    }
   ],
   "source": [
    "# function without argument\n",
    "\n",
    "def greet(): \n",
    "    print('hello')\n",
    "    print('world')\n",
    "greet()"
   ]
  },
  {
   "cell_type": "code",
   "execution_count": 39,
   "id": "0aed09ed",
   "metadata": {},
   "outputs": [
    {
     "name": "stdout",
     "output_type": "stream",
     "text": [
      "6\n"
     ]
    }
   ],
   "source": [
    "# function with argument \n",
    "\n",
    "def add(x,y):\n",
    "    c=x+y\n",
    "    print(c)  \n",
    "   \n",
    "add(5,1)"
   ]
  },
  {
   "cell_type": "code",
   "execution_count": 40,
   "id": "655aebc1",
   "metadata": {},
   "outputs": [
    {
     "data": {
      "text/plain": [
       "12"
      ]
     },
     "execution_count": 40,
     "metadata": {},
     "output_type": "execute_result"
    }
   ],
   "source": [
    "# function with argument \n",
    "\n",
    "def add(x,y):\n",
    "    c=x+y\n",
    "    return c  \n",
    "   \n",
    "add(8,4)"
   ]
  },
  {
   "cell_type": "code",
   "execution_count": 41,
   "metadata": {},
   "outputs": [
    {
     "data": {
      "text/plain": [
       "5"
      ]
     },
     "execution_count": 41,
     "metadata": {},
     "output_type": "execute_result"
    }
   ],
   "source": [
    "# function with argument \n",
    "\n",
    "def add(x,y,z):\n",
    "    c=x+y\n",
    "    return c  \n",
    "   \n",
    "add(3,2,7)"
   ]
  },
  {
   "cell_type": "code",
   "execution_count": 42,
   "metadata": {},
   "outputs": [
    {
     "data": {
      "text/plain": [
       "18"
      ]
     },
     "execution_count": 42,
     "metadata": {},
     "output_type": "execute_result"
    }
   ],
   "source": [
    "# function with argument \n",
    "\n",
    "def add(x,y,z,n):\n",
    "    c = x+y+z+n\n",
    "    return c  \n",
    "   \n",
    "add(2,5,3,8)"
   ]
  },
  {
   "cell_type": "code",
   "execution_count": 43,
   "id": "e8614084",
   "metadata": {},
   "outputs": [
    {
     "name": "stdout",
     "output_type": "stream",
     "text": [
      "hello\n",
      "Hai\n"
     ]
    },
    {
     "data": {
      "text/plain": [
       "9"
      ]
     },
     "execution_count": 43,
     "metadata": {},
     "output_type": "execute_result"
    }
   ],
   "source": [
    "def greet(): \n",
    "    print('hello')\n",
    "    print('Hai')\n",
    "greet()\n",
    "\n",
    "def add(x,y):\n",
    "    c = x+y\n",
    "    return c  \n",
    "   \n",
    "add(5,4)"
   ]
  },
  {
   "cell_type": "code",
   "execution_count": 44,
   "metadata": {},
   "outputs": [
    {
     "name": "stdout",
     "output_type": "stream",
     "text": [
      "hello\n",
      "Hai\n",
      "8\n",
      "-3\n"
     ]
    }
   ],
   "source": [
    "def greet(): \n",
    "    print('hello')\n",
    "    print('Hai')\n",
    "    \n",
    "def add(x,y):\n",
    "    c = x+y\n",
    "    return c  \n",
    "\n",
    "def sub(x,y):\n",
    "    d = x-y\n",
    "    return d\n",
    "\n",
    "\n",
    "greet()   \n",
    "print(add(2,6))\n",
    "print(sub(4,7))"
   ]
  },
  {
   "cell_type": "code",
   "execution_count": 45,
   "metadata": {},
   "outputs": [
    {
     "name": "stdout",
     "output_type": "stream",
     "text": [
      "(10, -6)\n",
      "<class 'tuple'>\n"
     ]
    }
   ],
   "source": [
    "def add_sub(x,y): \n",
    "    c= x+y\n",
    "    d= x-y\n",
    "    return c, d \n",
    "    \n",
    "result = add_sub(2,8)\n",
    "print(result)\n",
    "print(type(result))"
   ]
  },
  {
   "cell_type": "code",
   "execution_count": 46,
   "metadata": {},
   "outputs": [
    {
     "name": "stdout",
     "output_type": "stream",
     "text": [
      "9\n",
      "-1\n",
      "<class 'int'>\n"
     ]
    }
   ],
   "source": [
    "def add_sub(x,y): \n",
    "    c= x+y\n",
    "    d= x-y\n",
    "    return c, d \n",
    "    \n",
    "result, result1 = add_sub(4,5)\n",
    "\n",
    "print(result)\n",
    "print(result1)\n",
    "print(type(result))"
   ]
  },
  {
   "cell_type": "code",
   "execution_count": 47,
   "id": "468890e6",
   "metadata": {},
   "outputs": [
    {
     "name": "stdout",
     "output_type": "stream",
     "text": [
      "addition of is :  9\n",
      "subtraction is :  -1\n",
      "multiplication is :  20\n"
     ]
    }
   ],
   "source": [
    "def add_sub_mul(x,y): \n",
    "    c= x+y\n",
    "    d= x-y\n",
    "    e= x*y\n",
    "    return c, d, e \n",
    "    \n",
    "add, sub, mul = add_sub_mul(4,5)\n",
    "\n",
    "print(\"addition of is : \",add)\n",
    "print(\"subtraction is : \",sub)\n",
    "print(\"multiplication is : \",mul)"
   ]
  },
  {
   "cell_type": "code",
   "execution_count": null,
   "id": "15a72313",
   "metadata": {},
   "outputs": [
    {
     "data": {
      "text/plain": [
       "8"
      ]
     },
     "execution_count": 22,
     "metadata": {},
     "output_type": "execute_result"
    }
   ],
   "source": [
    "def update(x): #update function take the value from the user\n",
    "    x = 8\n",
    "    return x\n",
    "    \n",
    "update(20)"
   ]
  },
  {
   "cell_type": "code",
   "execution_count": null,
   "metadata": {},
   "outputs": [
    {
     "name": "stdout",
     "output_type": "stream",
     "text": [
      "6\n"
     ]
    }
   ],
   "source": [
    "def update(x):  \n",
    "    x = 8\n",
    "    return x\n",
    "    \n",
    "y = 6\n",
    "update(y)\n",
    "print(y)"
   ]
  },
  {
   "cell_type": "code",
   "execution_count": null,
   "metadata": {},
   "outputs": [],
   "source": []
  },
  {
   "cell_type": "code",
   "execution_count": null,
   "metadata": {},
   "outputs": [],
   "source": []
  },
  {
   "cell_type": "code",
   "execution_count": null,
   "metadata": {},
   "outputs": [],
   "source": []
  },
  {
   "cell_type": "code",
   "execution_count": null,
   "id": "73f4d18d",
   "metadata": {},
   "outputs": [],
   "source": []
  },
  {
   "cell_type": "code",
   "execution_count": null,
   "metadata": {},
   "outputs": [],
   "source": []
  },
  {
   "cell_type": "code",
   "execution_count": null,
   "metadata": {},
   "outputs": [],
   "source": []
  },
  {
   "cell_type": "code",
   "execution_count": null,
   "metadata": {},
   "outputs": [],
   "source": []
  },
  {
   "cell_type": "code",
   "execution_count": null,
   "metadata": {},
   "outputs": [],
   "source": []
  }
 ],
 "metadata": {
  "kernelspec": {
   "display_name": "Python 3",
   "language": "python",
   "name": "python3"
  },
  "language_info": {
   "codemirror_mode": {
    "name": "ipython",
    "version": 3
   },
   "file_extension": ".py",
   "mimetype": "text/x-python",
   "name": "python",
   "nbconvert_exporter": "python",
   "pygments_lexer": "ipython3",
   "version": "3.13.5"
  }
 },
 "nbformat": 4,
 "nbformat_minor": 5
}
