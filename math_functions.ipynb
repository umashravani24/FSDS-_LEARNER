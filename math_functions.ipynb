{
 "cells": [
  {
   "cell_type": "code",
   "execution_count": 1,
   "id": "9cf61c87",
   "metadata": {},
   "outputs": [
    {
     "name": "stdout",
     "output_type": "stream",
     "text": [
      "5.0\n",
      "6\n",
      "8.0\n",
      "2\n",
      "3\n",
      "3.141592653589793\n",
      "2.718281828459045\n"
     ]
    }
   ],
   "source": [
    "#maths functions\n",
    "from math import *\n",
    "print(sqrt(25))\n",
    "print(factorial(3))\n",
    "print(pow(2, 3))\n",
    "print(floor(2.3))\n",
    "print(ceil(2.3))\n",
    "print(pi)\n",
    "print(e)"
   ]
  },
  {
   "cell_type": "code",
   "execution_count": 3,
   "id": "7d7b19a4",
   "metadata": {},
   "outputs": [
    {
     "name": "stdout",
     "output_type": "stream",
     "text": [
      "5.0\n",
      "8.0\n",
      "2\n",
      "3\n"
     ]
    }
   ],
   "source": [
    "from math import sqrt, pow, floor, ceil\n",
    "print(sqrt(25))\n",
    "print(pow(2, 3))\n",
    "print(floor(2.3))\n",
    "print(ceil(2.3))"
   ]
  },
  {
   "cell_type": "code",
   "execution_count": 4,
   "id": "b064f149",
   "metadata": {},
   "outputs": [
    {
     "name": "stdout",
     "output_type": "stream",
     "text": [
      "5.0\n",
      "8.0\n",
      "2\n",
      "3\n"
     ]
    }
   ],
   "source": [
    "import math\n",
    "print(math.sqrt(25))\n",
    "print(math.pow(2, 3))   \n",
    "print(math.floor(2.3))\n",
    "print(math.ceil(2.3))"
   ]
  }
 ],
 "metadata": {
  "kernelspec": {
   "display_name": "Python 3",
   "language": "python",
   "name": "python3"
  },
  "language_info": {
   "codemirror_mode": {
    "name": "ipython",
    "version": 3
   },
   "file_extension": ".py",
   "mimetype": "text/x-python",
   "name": "python",
   "nbconvert_exporter": "python",
   "pygments_lexer": "ipython3",
   "version": "3.13.5"
  }
 },
 "nbformat": 4,
 "nbformat_minor": 5
}
