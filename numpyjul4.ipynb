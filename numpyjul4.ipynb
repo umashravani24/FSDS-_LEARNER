{
 "cells": [
  {
   "cell_type": "code",
   "execution_count": 1,
   "id": "1ee9086c",
   "metadata": {},
   "outputs": [
    {
     "ename": "NameError",
     "evalue": "name 'rand' is not defined",
     "output_type": "error",
     "traceback": [
      "\u001b[31m---------------------------------------------------------------------------\u001b[39m",
      "\u001b[31mNameError\u001b[39m                                 Traceback (most recent call last)",
      "\u001b[36mCell\u001b[39m\u001b[36m \u001b[39m\u001b[32mIn[1]\u001b[39m\u001b[32m, line 1\u001b[39m\n\u001b[32m----> \u001b[39m\u001b[32m1\u001b[39m \u001b[43mrand\u001b[49m(\u001b[32m3\u001b[39m,\u001b[32m2\u001b[39m)\n",
      "\u001b[31mNameError\u001b[39m: name 'rand' is not defined"
     ]
    }
   ],
   "source": [
    "rand(3,2)"
   ]
  },
  {
   "cell_type": "code",
   "execution_count": 2,
   "id": "b6688e12",
   "metadata": {},
   "outputs": [
    {
     "ename": "NameError",
     "evalue": "name 'randome' is not defined",
     "output_type": "error",
     "traceback": [
      "\u001b[31m---------------------------------------------------------------------------\u001b[39m",
      "\u001b[31mNameError\u001b[39m                                 Traceback (most recent call last)",
      "\u001b[36mCell\u001b[39m\u001b[36m \u001b[39m\u001b[32mIn[2]\u001b[39m\u001b[32m, line 1\u001b[39m\n\u001b[32m----> \u001b[39m\u001b[32m1\u001b[39m \u001b[43mrandome\u001b[49m.rand(\u001b[32m3\u001b[39m)\n",
      "\u001b[31mNameError\u001b[39m: name 'randome' is not defined"
     ]
    }
   ],
   "source": [
    "randome.rand(3)"
   ]
  },
  {
   "cell_type": "code",
   "execution_count": 4,
   "id": "eccab69b",
   "metadata": {},
   "outputs": [
    {
     "data": {
      "text/plain": [
       "array([0.44338457, 0.46247618, 0.15615744])"
      ]
     },
     "execution_count": 4,
     "metadata": {},
     "output_type": "execute_result"
    }
   ],
   "source": [
    "import numpy as np\n",
    "import random   \n",
    "np.random.rand(3)"
   ]
  },
  {
   "cell_type": "code",
   "execution_count": 5,
   "id": "ecfcea47",
   "metadata": {},
   "outputs": [
    {
     "data": {
      "text/plain": [
       "array([[0.20726495]])"
      ]
     },
     "execution_count": 5,
     "metadata": {},
     "output_type": "execute_result"
    }
   ],
   "source": [
    "np.random.rand(1,1)"
   ]
  },
  {
   "cell_type": "code",
   "execution_count": 6,
   "id": "399d309f",
   "metadata": {},
   "outputs": [
    {
     "data": {
      "text/plain": [
       "array([[0.03723464, 0.38484489],\n",
       "       [0.45521256, 0.41014593],\n",
       "       [0.65190338, 0.23753179]])"
      ]
     },
     "execution_count": 6,
     "metadata": {},
     "output_type": "execute_result"
    }
   ],
   "source": [
    "np.random.rand(3,2)"
   ]
  },
  {
   "cell_type": "code",
   "execution_count": 9,
   "id": "f54257e2",
   "metadata": {},
   "outputs": [
    {
     "data": {
      "text/plain": [
       "0"
      ]
     },
     "execution_count": 9,
     "metadata": {},
     "output_type": "execute_result"
    }
   ],
   "source": [
    "np.random.randint(3)"
   ]
  },
  {
   "cell_type": "code",
   "execution_count": 10,
   "id": "436f97bb",
   "metadata": {},
   "outputs": [
    {
     "data": {
      "text/plain": [
       "4"
      ]
     },
     "execution_count": 10,
     "metadata": {},
     "output_type": "execute_result"
    }
   ],
   "source": [
    "np.random.randint(2,15)"
   ]
  },
  {
   "cell_type": "code",
   "execution_count": 11,
   "id": "83d5d2f8",
   "metadata": {},
   "outputs": [
    {
     "data": {
      "text/plain": [
       "array([8, 5, 9, 7], dtype=int32)"
      ]
     },
     "execution_count": 11,
     "metadata": {},
     "output_type": "execute_result"
    }
   ],
   "source": [
    "np.random.randint(2,10,4)"
   ]
  },
  {
   "cell_type": "code",
   "execution_count": 12,
   "id": "f52dc0fe",
   "metadata": {},
   "outputs": [
    {
     "data": {
      "text/plain": [
       "array([-14,  -6,  15,  15, -19,   8, -13,  -2,  14,  -1], dtype=int32)"
      ]
     },
     "execution_count": 12,
     "metadata": {},
     "output_type": "execute_result"
    }
   ],
   "source": [
    "np.random.randint(-30,20,10)"
   ]
  },
  {
   "cell_type": "code",
   "execution_count": 13,
   "id": "858a95f0",
   "metadata": {},
   "outputs": [
    {
     "data": {
      "text/plain": [
       "array([[32, 14, 35, 19, 22],\n",
       "       [21, 12, 35, 36, 26],\n",
       "       [39, 22, 37, 19, 25],\n",
       "       [17, 28, 11, 23, 11],\n",
       "       [14, 35, 24, 28, 35]], dtype=int32)"
      ]
     },
     "execution_count": 13,
     "metadata": {},
     "output_type": "execute_result"
    }
   ],
   "source": [
    "np.random.randint(10,40,(5,5))"
   ]
  },
  {
   "cell_type": "code",
   "execution_count": 14,
   "id": "a3a8918c",
   "metadata": {},
   "outputs": [
    {
     "data": {
      "text/plain": [
       "array([[71, 75, 64, 58, 61, 30, 70, 95, 45],\n",
       "       [32, 65, 13, 58, 18, 52, 79, 10, 36],\n",
       "       [61, 70, 34, 21, 87, 38, 80, 66, 19],\n",
       "       [26, 42, 42, 50, 38, 85, 91, 50, 77],\n",
       "       [42, 86, 78, 60, 99, 92, 28, 88, 85],\n",
       "       [93, 87, 45, 50, 24, 71, 53, 29, 89],\n",
       "       [26, 21, 64, 14, 78, 27, 17, 59, 53],\n",
       "       [13, 13, 48, 49, 32, 78, 51, 33, 47],\n",
       "       [82, 23, 83, 77, 16, 80, 26, 36, 94]], dtype=int32)"
      ]
     },
     "execution_count": 14,
     "metadata": {},
     "output_type": "execute_result"
    }
   ],
   "source": [
    "np.random.randint(10,100,(9,9))"
   ]
  },
  {
   "cell_type": "code",
   "execution_count": 16,
   "id": "42145ce7",
   "metadata": {},
   "outputs": [
    {
     "data": {
      "text/plain": [
       "[0, 1, 2, 3, 4, 5]"
      ]
     },
     "execution_count": 16,
     "metadata": {},
     "output_type": "execute_result"
    }
   ],
   "source": [
    "ml=[0,1,2,3,4,5]\n",
    "ml"
   ]
  },
  {
   "cell_type": "code",
   "execution_count": 17,
   "id": "c461c73c",
   "metadata": {},
   "outputs": [
    {
     "data": {
      "text/plain": [
       "array([0, 1, 2, 3, 4, 5])"
      ]
     },
     "execution_count": 17,
     "metadata": {},
     "output_type": "execute_result"
    }
   ],
   "source": [
    "arr=np.array(ml)\n",
    "arr"
   ]
  },
  {
   "cell_type": "code",
   "execution_count": 18,
   "id": "f2e1c346",
   "metadata": {},
   "outputs": [
    {
     "data": {
      "text/plain": [
       "array([[0, 1, 2],\n",
       "       [3, 4, 5]])"
      ]
     },
     "execution_count": 18,
     "metadata": {},
     "output_type": "execute_result"
    }
   ],
   "source": [
    "arr.reshape(2,3)\n"
   ]
  },
  {
   "cell_type": "code",
   "execution_count": 19,
   "id": "a4fc4bb3",
   "metadata": {},
   "outputs": [
    {
     "data": {
      "text/plain": [
       "array([[0, 1],\n",
       "       [2, 3],\n",
       "       [4, 5]])"
      ]
     },
     "execution_count": 19,
     "metadata": {},
     "output_type": "execute_result"
    }
   ],
   "source": [
    "arr.reshape(3,2)"
   ]
  },
  {
   "cell_type": "code",
   "execution_count": 20,
   "id": "80027637",
   "metadata": {},
   "outputs": [
    {
     "ename": "ValueError",
     "evalue": "cannot reshape array of size 6 into shape (3,3)",
     "output_type": "error",
     "traceback": [
      "\u001b[31m---------------------------------------------------------------------------\u001b[39m",
      "\u001b[31mValueError\u001b[39m                                Traceback (most recent call last)",
      "\u001b[36mCell\u001b[39m\u001b[36m \u001b[39m\u001b[32mIn[20]\u001b[39m\u001b[32m, line 1\u001b[39m\n\u001b[32m----> \u001b[39m\u001b[32m1\u001b[39m \u001b[43marr\u001b[49m\u001b[43m.\u001b[49m\u001b[43mreshape\u001b[49m\u001b[43m(\u001b[49m\u001b[32;43m3\u001b[39;49m\u001b[43m,\u001b[49m\u001b[32;43m3\u001b[39;49m\u001b[43m)\u001b[49m\n",
      "\u001b[31mValueError\u001b[39m: cannot reshape array of size 6 into shape (3,3)"
     ]
    }
   ],
   "source": [
    "arr.reshape(3,3)"
   ]
  },
  {
   "cell_type": "code",
   "execution_count": 21,
   "id": "15afd656",
   "metadata": {},
   "outputs": [
    {
     "data": {
      "text/plain": [
       "array([[0],\n",
       "       [1],\n",
       "       [2],\n",
       "       [3],\n",
       "       [4],\n",
       "       [5]])"
      ]
     },
     "execution_count": 21,
     "metadata": {},
     "output_type": "execute_result"
    }
   ],
   "source": [
    "arr.reshape(6,1)"
   ]
  },
  {
   "cell_type": "code",
   "execution_count": 33,
   "id": "8733b1bd",
   "metadata": {},
   "outputs": [
    {
     "data": {
      "text/plain": [
       "array([[12, 18, 11, 15],\n",
       "       [17, 13, 14, 10],\n",
       "       [12, 18, 16, 14],\n",
       "       [14, 18, 12, 18]], dtype=int32)"
      ]
     },
     "execution_count": 33,
     "metadata": {},
     "output_type": "execute_result"
    }
   ],
   "source": [
    "n=  np.random.randint(10,20,(4,4))\n",
    "n"
   ]
  },
  {
   "cell_type": "code",
   "execution_count": 34,
   "id": "72aaff2d",
   "metadata": {},
   "outputs": [
    {
     "data": {
      "text/plain": [
       "array([[25, 23, 29, 18, 41, 21],\n",
       "       [49, 33, 27, 25, 13, 28],\n",
       "       [20, 47, 28, 13, 13, 34],\n",
       "       [34, 15, 40, 44, 28, 46],\n",
       "       [11, 17, 49, 38, 37, 43],\n",
       "       [30, 17, 18, 47, 13, 20]], dtype=int32)"
      ]
     },
     "execution_count": 34,
     "metadata": {},
     "output_type": "execute_result"
    }
   ],
   "source": [
    "n=  np.random.randint(10,50,(6,6))\n",
    "n"
   ]
  },
  {
   "cell_type": "code",
   "execution_count": 35,
   "id": "06e3a60b",
   "metadata": {},
   "outputs": [
    {
     "data": {
      "text/plain": [
       "array([[25, 23, 29, 18, 41, 21],\n",
       "       [49, 33, 27, 25, 13, 28],\n",
       "       [20, 47, 28, 13, 13, 34],\n",
       "       [34, 15, 40, 44, 28, 46],\n",
       "       [11, 17, 49, 38, 37, 43],\n",
       "       [30, 17, 18, 47, 13, 20]], dtype=int32)"
      ]
     },
     "execution_count": 35,
     "metadata": {},
     "output_type": "execute_result"
    }
   ],
   "source": [
    "n[:]"
   ]
  },
  {
   "cell_type": "code",
   "execution_count": 37,
   "id": "4d3531ab",
   "metadata": {},
   "outputs": [
    {
     "data": {
      "text/plain": [
       "array([[49, 33, 27, 25, 13, 28],\n",
       "       [20, 47, 28, 13, 13, 34],\n",
       "       [34, 15, 40, 44, 28, 46],\n",
       "       [11, 17, 49, 38, 37, 43],\n",
       "       [30, 17, 18, 47, 13, 20]], dtype=int32)"
      ]
     },
     "execution_count": 37,
     "metadata": {},
     "output_type": "execute_result"
    }
   ],
   "source": [
    "n[1:6]"
   ]
  }
 ],
 "metadata": {
  "kernelspec": {
   "display_name": "Python 3",
   "language": "python",
   "name": "python3"
  },
  "language_info": {
   "codemirror_mode": {
    "name": "ipython",
    "version": 3
   },
   "file_extension": ".py",
   "mimetype": "text/x-python",
   "name": "python",
   "nbconvert_exporter": "python",
   "pygments_lexer": "ipython3",
   "version": "3.13.5"
  }
 },
 "nbformat": 4,
 "nbformat_minor": 5
}
