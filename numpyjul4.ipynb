{
 "cells": [
  {
   "cell_type": "code",
   "execution_count": 1,
   "id": "1ee9086c",
   "metadata": {},
   "outputs": [
    {
     "ename": "NameError",
     "evalue": "name 'rand' is not defined",
     "output_type": "error",
     "traceback": [
      "\u001b[31m---------------------------------------------------------------------------\u001b[39m",
      "\u001b[31mNameError\u001b[39m                                 Traceback (most recent call last)",
      "\u001b[36mCell\u001b[39m\u001b[36m \u001b[39m\u001b[32mIn[1]\u001b[39m\u001b[32m, line 1\u001b[39m\n\u001b[32m----> \u001b[39m\u001b[32m1\u001b[39m \u001b[43mrand\u001b[49m(\u001b[32m3\u001b[39m,\u001b[32m2\u001b[39m)\n",
      "\u001b[31mNameError\u001b[39m: name 'rand' is not defined"
     ]
    }
   ],
   "source": [
    "rand(3,2)"
   ]
  },
  {
   "cell_type": "code",
   "execution_count": null,
   "id": "b6688e12",
   "metadata": {},
   "outputs": [
    {
     "ename": "NameError",
     "evalue": "name 'randome' is not defined",
     "output_type": "error",
     "traceback": [
      "\u001b[31m---------------------------------------------------------------------------\u001b[39m",
      "\u001b[31mNameError\u001b[39m                                 Traceback (most recent call last)",
      "\u001b[36mCell\u001b[39m\u001b[36m \u001b[39m\u001b[32mIn[2]\u001b[39m\u001b[32m, line 1\u001b[39m\n\u001b[32m----> \u001b[39m\u001b[32m1\u001b[39m \u001b[43mrandome\u001b[49m.rand(\u001b[32m3\u001b[39m)\n",
      "\u001b[31mNameError\u001b[39m: name 'randome' is not defined"
     ]
    }
   ],
   "source": [
    "randome.rand(3)"
   ]
  },
  {
   "cell_type": "code",
   "execution_count": null,
   "id": "eccab69b",
   "metadata": {},
   "outputs": [
    {
     "data": {
      "text/plain": [
       "array([0.44338457, 0.46247618, 0.15615744])"
      ]
     },
     "execution_count": 4,
     "metadata": {},
     "output_type": "execute_result"
    }
   ],
   "source": [
    "import numpy as np\n",
    "import random   \n",
    "np.random.rand(3)"
   ]
  },
  {
   "cell_type": "code",
   "execution_count": null,
   "id": "ecfcea47",
   "metadata": {},
   "outputs": [
    {
     "data": {
      "text/plain": [
       "array([[0.20726495]])"
      ]
     },
     "execution_count": 5,
     "metadata": {},
     "output_type": "execute_result"
    }
   ],
   "source": [
    "np.random.rand(1,1)"
   ]
  },
  {
   "cell_type": "code",
   "execution_count": null,
   "id": "399d309f",
   "metadata": {},
   "outputs": [
    {
     "data": {
      "text/plain": [
       "array([[0.03723464, 0.38484489],\n",
       "       [0.45521256, 0.41014593],\n",
       "       [0.65190338, 0.23753179]])"
      ]
     },
     "execution_count": 6,
     "metadata": {},
     "output_type": "execute_result"
    }
   ],
   "source": [
    "np.random.rand(3,2)"
   ]
  },
  {
   "cell_type": "code",
   "execution_count": null,
   "id": "f54257e2",
   "metadata": {},
   "outputs": [
    {
     "data": {
      "text/plain": [
       "0"
      ]
     },
     "execution_count": 9,
     "metadata": {},
     "output_type": "execute_result"
    }
   ],
   "source": [
    "np.random.randint(3)"
   ]
  },
  {
   "cell_type": "code",
   "execution_count": null,
   "id": "436f97bb",
   "metadata": {},
   "outputs": [
    {
     "data": {
      "text/plain": [
       "4"
      ]
     },
     "execution_count": 10,
     "metadata": {},
     "output_type": "execute_result"
    }
   ],
   "source": [
    "np.random.randint(2,15)"
   ]
  },
  {
   "cell_type": "code",
   "execution_count": null,
   "id": "83d5d2f8",
   "metadata": {},
   "outputs": [
    {
     "data": {
      "text/plain": [
       "array([8, 5, 9, 7], dtype=int32)"
      ]
     },
     "execution_count": 11,
     "metadata": {},
     "output_type": "execute_result"
    }
   ],
   "source": [
    "np.random.randint(2,10,4)"
   ]
  },
  {
   "cell_type": "code",
   "execution_count": null,
   "id": "f52dc0fe",
   "metadata": {},
   "outputs": [
    {
     "data": {
      "text/plain": [
       "array([-14,  -6,  15,  15, -19,   8, -13,  -2,  14,  -1], dtype=int32)"
      ]
     },
     "execution_count": 12,
     "metadata": {},
     "output_type": "execute_result"
    }
   ],
   "source": [
    "np.random.randint(-30,20,10)"
   ]
  },
  {
   "cell_type": "code",
   "execution_count": null,
   "id": "858a95f0",
   "metadata": {},
   "outputs": [
    {
     "data": {
      "text/plain": [
       "array([[32, 14, 35, 19, 22],\n",
       "       [21, 12, 35, 36, 26],\n",
       "       [39, 22, 37, 19, 25],\n",
       "       [17, 28, 11, 23, 11],\n",
       "       [14, 35, 24, 28, 35]], dtype=int32)"
      ]
     },
     "execution_count": 13,
     "metadata": {},
     "output_type": "execute_result"
    }
   ],
   "source": [
    "np.random.randint(10,40,(5,5))"
   ]
  },
  {
   "cell_type": "code",
   "execution_count": null,
   "id": "a3a8918c",
   "metadata": {},
   "outputs": [
    {
     "data": {
      "text/plain": [
       "array([[71, 75, 64, 58, 61, 30, 70, 95, 45],\n",
       "       [32, 65, 13, 58, 18, 52, 79, 10, 36],\n",
       "       [61, 70, 34, 21, 87, 38, 80, 66, 19],\n",
       "       [26, 42, 42, 50, 38, 85, 91, 50, 77],\n",
       "       [42, 86, 78, 60, 99, 92, 28, 88, 85],\n",
       "       [93, 87, 45, 50, 24, 71, 53, 29, 89],\n",
       "       [26, 21, 64, 14, 78, 27, 17, 59, 53],\n",
       "       [13, 13, 48, 49, 32, 78, 51, 33, 47],\n",
       "       [82, 23, 83, 77, 16, 80, 26, 36, 94]], dtype=int32)"
      ]
     },
     "execution_count": 14,
     "metadata": {},
     "output_type": "execute_result"
    }
   ],
   "source": [
    "np.random.randint(10,100,(9,9))"
   ]
  },
  {
   "cell_type": "code",
   "execution_count": null,
   "id": "42145ce7",
   "metadata": {},
   "outputs": [
    {
     "data": {
      "text/plain": [
       "[0, 1, 2, 3, 4, 5]"
      ]
     },
     "execution_count": 16,
     "metadata": {},
     "output_type": "execute_result"
    }
   ],
   "source": [
    "ml=[0,1,2,3,4,5]\n",
    "ml"
   ]
  },
  {
   "cell_type": "code",
   "execution_count": null,
   "id": "c461c73c",
   "metadata": {},
   "outputs": [
    {
     "data": {
      "text/plain": [
       "array([0, 1, 2, 3, 4, 5])"
      ]
     },
     "execution_count": 17,
     "metadata": {},
     "output_type": "execute_result"
    }
   ],
   "source": [
    "arr=np.array(ml)\n",
    "arr"
   ]
  },
  {
   "cell_type": "code",
   "execution_count": null,
   "id": "f2e1c346",
   "metadata": {},
   "outputs": [
    {
     "data": {
      "text/plain": [
       "array([[0, 1, 2],\n",
       "       [3, 4, 5]])"
      ]
     },
     "execution_count": 18,
     "metadata": {},
     "output_type": "execute_result"
    }
   ],
   "source": [
    "arr.reshape(2,3)\n"
   ]
  },
  {
   "cell_type": "code",
   "execution_count": null,
   "id": "a4fc4bb3",
   "metadata": {},
   "outputs": [
    {
     "data": {
      "text/plain": [
       "array([[0, 1],\n",
       "       [2, 3],\n",
       "       [4, 5]])"
      ]
     },
     "execution_count": 19,
     "metadata": {},
     "output_type": "execute_result"
    }
   ],
   "source": [
    "arr.reshape(3,2)"
   ]
  },
  {
   "cell_type": "code",
   "execution_count": null,
   "id": "80027637",
   "metadata": {},
   "outputs": [
    {
     "ename": "ValueError",
     "evalue": "cannot reshape array of size 6 into shape (3,3)",
     "output_type": "error",
     "traceback": [
      "\u001b[31m---------------------------------------------------------------------------\u001b[39m",
      "\u001b[31mValueError\u001b[39m                                Traceback (most recent call last)",
      "\u001b[36mCell\u001b[39m\u001b[36m \u001b[39m\u001b[32mIn[20]\u001b[39m\u001b[32m, line 1\u001b[39m\n\u001b[32m----> \u001b[39m\u001b[32m1\u001b[39m \u001b[43marr\u001b[49m\u001b[43m.\u001b[49m\u001b[43mreshape\u001b[49m\u001b[43m(\u001b[49m\u001b[32;43m3\u001b[39;49m\u001b[43m,\u001b[49m\u001b[32;43m3\u001b[39;49m\u001b[43m)\u001b[49m\n",
      "\u001b[31mValueError\u001b[39m: cannot reshape array of size 6 into shape (3,3)"
     ]
    }
   ],
   "source": [
    "arr.reshape(3,3)"
   ]
  },
  {
   "cell_type": "code",
   "execution_count": null,
   "id": "15afd656",
   "metadata": {},
   "outputs": [
    {
     "data": {
      "text/plain": [
       "array([[0],\n",
       "       [1],\n",
       "       [2],\n",
       "       [3],\n",
       "       [4],\n",
       "       [5]])"
      ]
     },
     "execution_count": 21,
     "metadata": {},
     "output_type": "execute_result"
    }
   ],
   "source": [
    "arr.reshape(6,1)"
   ]
  },
  {
   "cell_type": "code",
   "execution_count": null,
   "id": "8733b1bd",
   "metadata": {},
   "outputs": [
    {
     "data": {
      "text/plain": [
       "array([[12, 18, 11, 15],\n",
       "       [17, 13, 14, 10],\n",
       "       [12, 18, 16, 14],\n",
       "       [14, 18, 12, 18]], dtype=int32)"
      ]
     },
     "execution_count": 33,
     "metadata": {},
     "output_type": "execute_result"
    }
   ],
   "source": [
    "n=  np.random.randint(10,20,(4,4))\n",
    "n"
   ]
  },
  {
   "cell_type": "code",
   "execution_count": null,
   "id": "72aaff2d",
   "metadata": {},
   "outputs": [
    {
     "data": {
      "text/plain": [
       "array([[25, 23, 29, 18, 41, 21],\n",
       "       [49, 33, 27, 25, 13, 28],\n",
       "       [20, 47, 28, 13, 13, 34],\n",
       "       [34, 15, 40, 44, 28, 46],\n",
       "       [11, 17, 49, 38, 37, 43],\n",
       "       [30, 17, 18, 47, 13, 20]], dtype=int32)"
      ]
     },
     "execution_count": 34,
     "metadata": {},
     "output_type": "execute_result"
    }
   ],
   "source": [
    "n=  np.random.randint(10,50,(6,6))\n",
    "n"
   ]
  },
  {
   "cell_type": "code",
   "execution_count": null,
   "id": "06e3a60b",
   "metadata": {},
   "outputs": [
    {
     "data": {
      "text/plain": [
       "array([[25, 23, 29, 18, 41, 21],\n",
       "       [49, 33, 27, 25, 13, 28],\n",
       "       [20, 47, 28, 13, 13, 34],\n",
       "       [34, 15, 40, 44, 28, 46],\n",
       "       [11, 17, 49, 38, 37, 43],\n",
       "       [30, 17, 18, 47, 13, 20]], dtype=int32)"
      ]
     },
     "execution_count": 35,
     "metadata": {},
     "output_type": "execute_result"
    }
   ],
   "source": [
    "n[:]"
   ]
  },
  {
   "cell_type": "code",
   "execution_count": null,
   "id": "4d3531ab",
   "metadata": {},
   "outputs": [
    {
     "data": {
      "text/plain": [
       "array([[49, 33, 27, 25, 13, 28],\n",
       "       [20, 47, 28, 13, 13, 34],\n",
       "       [34, 15, 40, 44, 28, 46],\n",
       "       [11, 17, 49, 38, 37, 43],\n",
       "       [30, 17, 18, 47, 13, 20]], dtype=int32)"
      ]
     },
     "execution_count": 37,
     "metadata": {},
     "output_type": "execute_result"
    }
   ],
   "source": [
    "n[1:6]"
   ]
  },
  {
   "cell_type": "code",
   "execution_count": null,
   "id": "5cc2e44a",
   "metadata": {},
   "outputs": [
    {
     "data": {
      "text/plain": [
       "array([[17, 15, 22, 17, 38, 11, 40, 18],\n",
       "       [14, 43, 39, 36, 44, 39, 43, 27],\n",
       "       [32, 31, 41, 13, 43, 11, 29, 39],\n",
       "       [43, 40, 38, 12, 30, 41, 18, 14],\n",
       "       [15, 34, 27, 31, 27, 29, 39, 28],\n",
       "       [28, 32, 23, 40, 37, 36, 10, 18],\n",
       "       [46, 23, 10, 21, 29, 10, 43, 48],\n",
       "       [41, 28, 41, 36, 35, 46, 34, 21]], dtype=int32)"
      ]
     },
     "execution_count": 8,
     "metadata": {},
     "output_type": "execute_result"
    }
   ],
   "source": [
    "import numpy as np\n",
    "import random   \n",
    "n1=np.random.randint(10,50,(8,8))   \n",
    "n1"
   ]
  },
  {
   "cell_type": "code",
   "execution_count": null,
   "id": "0f92085d",
   "metadata": {},
   "outputs": [
    {
     "data": {
      "text/plain": [
       "array([[17, 15, 22, 17, 38, 11, 40, 18],\n",
       "       [14, 43, 39, 36, 44, 39, 43, 27],\n",
       "       [32, 31, 41, 13, 43, 11, 29, 39],\n",
       "       [43, 40, 38, 12, 30, 41, 18, 14],\n",
       "       [15, 34, 27, 31, 27, 29, 39, 28],\n",
       "       [28, 32, 23, 40, 37, 36, 10, 18],\n",
       "       [46, 23, 10, 21, 29, 10, 43, 48],\n",
       "       [41, 28, 41, 36, 35, 46, 34, 21]], dtype=int32)"
      ]
     },
     "execution_count": 9,
     "metadata": {},
     "output_type": "execute_result"
    }
   ],
   "source": [
    "n1[:]"
   ]
  },
  {
   "cell_type": "code",
   "execution_count": null,
   "id": "758a2763",
   "metadata": {},
   "outputs": [
    {
     "data": {
      "text/plain": [
       "array([[14, 43, 39, 36, 44, 39, 43, 27],\n",
       "       [32, 31, 41, 13, 43, 11, 29, 39]], dtype=int32)"
      ]
     },
     "execution_count": 11,
     "metadata": {},
     "output_type": "execute_result"
    }
   ],
   "source": [
    "n1[1:3]"
   ]
  },
  {
   "cell_type": "code",
   "execution_count": null,
   "id": "47eb4ff1",
   "metadata": {},
   "outputs": [
    {
     "data": {
      "text/plain": [
       "array([[41, 28, 41, 36, 35, 46, 34, 21]], dtype=int32)"
      ]
     },
     "execution_count": 12,
     "metadata": {},
     "output_type": "execute_result"
    }
   ],
   "source": [
    "n1[-1:]\n"
   ]
  },
  {
   "cell_type": "code",
   "execution_count": null,
   "id": "66059ceb",
   "metadata": {},
   "outputs": [
    {
     "data": {
      "text/plain": [
       "array([[17, 15, 22, 17, 38, 11, 40, 18],\n",
       "       [14, 43, 39, 36, 44, 39, 43, 27],\n",
       "       [32, 31, 41, 13, 43, 11, 29, 39],\n",
       "       [43, 40, 38, 12, 30, 41, 18, 14],\n",
       "       [15, 34, 27, 31, 27, 29, 39, 28],\n",
       "       [28, 32, 23, 40, 37, 36, 10, 18],\n",
       "       [46, 23, 10, 21, 29, 10, 43, 48],\n",
       "       [41, 28, 41, 36, 35, 46, 34, 21]], dtype=int32)"
      ]
     },
     "execution_count": 13,
     "metadata": {},
     "output_type": "execute_result"
    }
   ],
   "source": [
    "n1[:]"
   ]
  },
  {
   "cell_type": "code",
   "execution_count": null,
   "id": "8aa99afa",
   "metadata": {},
   "outputs": [
    {
     "data": {
      "text/plain": [
       "array([[17, 15, 22, 17, 38, 11, 40, 18],\n",
       "       [14, 43, 39, 36, 44, 39, 43, 27],\n",
       "       [32, 31, 41, 13, 43, 11, 29, 39],\n",
       "       [43, 40, 38, 12, 30, 41, 18, 14],\n",
       "       [15, 34, 27, 31, 27, 29, 39, 28],\n",
       "       [28, 32, 23, 40, 37, 36, 10, 18],\n",
       "       [46, 23, 10, 21, 29, 10, 43, 48]], dtype=int32)"
      ]
     },
     "execution_count": 14,
     "metadata": {},
     "output_type": "execute_result"
    }
   ],
   "source": [
    "n1[:-1]"
   ]
  },
  {
   "cell_type": "code",
   "execution_count": null,
   "id": "f861fd5e",
   "metadata": {},
   "outputs": [
    {
     "data": {
      "text/plain": [
       "array([[46, 23, 10, 21, 29, 10, 43, 48],\n",
       "       [41, 28, 41, 36, 35, 46, 34, 21]], dtype=int32)"
      ]
     },
     "execution_count": 15,
     "metadata": {},
     "output_type": "execute_result"
    }
   ],
   "source": [
    "n1[-2:]"
   ]
  },
  {
   "cell_type": "code",
   "execution_count": null,
   "id": "dd486b30",
   "metadata": {},
   "outputs": [
    {
     "data": {
      "text/plain": [
       "np.int32(36)"
      ]
     },
     "execution_count": 16,
     "metadata": {},
     "output_type": "execute_result"
    }
   ],
   "source": [
    "n1[1,3]"
   ]
  },
  {
   "cell_type": "code",
   "execution_count": null,
   "id": "b9a5797b",
   "metadata": {},
   "outputs": [
    {
     "data": {
      "text/plain": [
       "np.int32(27)"
      ]
     },
     "execution_count": 17,
     "metadata": {},
     "output_type": "execute_result"
    }
   ],
   "source": [
    "n1[1,-1]"
   ]
  },
  {
   "cell_type": "code",
   "execution_count": null,
   "id": "4c66ac5b",
   "metadata": {},
   "outputs": [
    {
     "data": {
      "text/plain": [
       "array([[73, 22, 64, 23, 71],\n",
       "       [86, 61, 88, 93, 91],\n",
       "       [88, 30,  9, 28, 26],\n",
       "       [54, 99,  5, 49, 76],\n",
       "       [47, 83, 60, 63, 61]], dtype=int32)"
      ]
     },
     "execution_count": 3,
     "metadata": {},
     "output_type": "execute_result"
    }
   ],
   "source": [
    "import numpy as np\n",
    "import random   \n",
    "m= np.random.randint(0,100,(5,5))\n",
    "m"
   ]
  },
  {
   "cell_type": "code",
   "execution_count": null,
   "id": "a86cc34b",
   "metadata": {},
   "outputs": [
    {
     "data": {
      "text/plain": [
       "np.int32(5)"
      ]
     },
     "execution_count": 4,
     "metadata": {},
     "output_type": "execute_result"
    }
   ],
   "source": [
    "row =3\n",
    "col=2\n",
    "m[row,col]"
   ]
  },
  {
   "cell_type": "code",
   "execution_count": null,
   "id": "db7f6843",
   "metadata": {},
   "outputs": [
    {
     "data": {
      "text/plain": [
       "array([86, 61, 88, 93, 91], dtype=int32)"
      ]
     },
     "execution_count": 5,
     "metadata": {},
     "output_type": "execute_result"
    }
   ],
   "source": [
    "m[1]"
   ]
  },
  {
   "cell_type": "code",
   "execution_count": null,
   "id": "bebd90e8",
   "metadata": {},
   "outputs": [
    {
     "data": {
      "text/plain": [
       "array([64, 88,  9,  5, 60], dtype=int32)"
      ]
     },
     "execution_count": 6,
     "metadata": {},
     "output_type": "execute_result"
    }
   ],
   "source": [
    "m[:,col]"
   ]
  },
  {
   "cell_type": "code",
   "execution_count": null,
   "id": "286e9319",
   "metadata": {},
   "outputs": [
    {
     "data": {
      "text/plain": [
       "array([23, 93, 28, 49, 63], dtype=int32)"
      ]
     },
     "execution_count": 7,
     "metadata": {},
     "output_type": "execute_result"
    }
   ],
   "source": [
    "m[:,3]"
   ]
  },
  {
   "cell_type": "code",
   "execution_count": null,
   "id": "9a4dd92b",
   "metadata": {},
   "outputs": [
    {
     "data": {
      "text/plain": [
       "array([54, 99,  5, 49, 76], dtype=int32)"
      ]
     },
     "execution_count": 8,
     "metadata": {},
     "output_type": "execute_result"
    }
   ],
   "source": [
    "m[3]"
   ]
  },
  {
   "cell_type": "code",
   "execution_count": 6,
   "id": "0aebc81e",
   "metadata": {},
   "outputs": [
    {
     "data": {
      "text/plain": [
       "array([[84, 53,  8, 18, 87],\n",
       "       [52, 72, 53, 25, 60],\n",
       "       [10, 90, 26, 24, 94],\n",
       "       [42, 22, 43, 11, 59],\n",
       "       [43, 92, 54, 16, 84]], dtype=int32)"
      ]
     },
     "execution_count": 6,
     "metadata": {},
     "output_type": "execute_result"
    }
   ],
   "source": [
    "import numpy as np\n",
    "n=  np.random.randint(0,100,(5,5))\n",
    "n"
   ]
  },
  {
   "cell_type": "code",
   "execution_count": 7,
   "id": "4c3da908",
   "metadata": {},
   "outputs": [
    {
     "data": {
      "text/plain": [
       "array([[43, 92, 54, 16, 84],\n",
       "       [42, 22, 43, 11, 59],\n",
       "       [10, 90, 26, 24, 94],\n",
       "       [52, 72, 53, 25, 60],\n",
       "       [84, 53,  8, 18, 87]], dtype=int32)"
      ]
     },
     "execution_count": 7,
     "metadata": {},
     "output_type": "execute_result"
    }
   ],
   "source": [
    "n[::-1]"
   ]
  },
  {
   "cell_type": "code",
   "execution_count": 8,
   "id": "d3190aa5",
   "metadata": {},
   "outputs": [
    {
     "data": {
      "text/plain": [
       "array([[43, 92, 54, 16, 84],\n",
       "       [10, 90, 26, 24, 94],\n",
       "       [84, 53,  8, 18, 87]], dtype=int32)"
      ]
     },
     "execution_count": 8,
     "metadata": {},
     "output_type": "execute_result"
    }
   ],
   "source": [
    "n[::-2]"
   ]
  },
  {
   "cell_type": "code",
   "execution_count": 9,
   "id": "725ace69",
   "metadata": {},
   "outputs": [
    {
     "data": {
      "text/plain": [
       "array([[53, 25],\n",
       "       [26, 24],\n",
       "       [43, 11],\n",
       "       [54, 16]], dtype=int32)"
      ]
     },
     "execution_count": 9,
     "metadata": {},
     "output_type": "execute_result"
    }
   ],
   "source": [
    "n[1:5,2:4]"
   ]
  },
  {
   "cell_type": "code",
   "execution_count": 10,
   "id": "d7d76f74",
   "metadata": {},
   "outputs": [
    {
     "data": {
      "text/plain": [
       "array([[84, 53,  8, 18, 87],\n",
       "       [52, 72, 53, 25, 60],\n",
       "       [10, 90, 26, 24, 94],\n",
       "       [42, 22, 43, 11, 59],\n",
       "       [43, 92, 54, 16, 84]], dtype=int32)"
      ]
     },
     "execution_count": 10,
     "metadata": {},
     "output_type": "execute_result"
    }
   ],
   "source": [
    "n[:]"
   ]
  },
  {
   "cell_type": "code",
   "execution_count": 11,
   "id": "7a6efbdd",
   "metadata": {},
   "outputs": [
    {
     "data": {
      "text/plain": [
       "array([[18, 87],\n",
       "       [25, 60],\n",
       "       [24, 94]], dtype=int32)"
      ]
     },
     "execution_count": 11,
     "metadata": {},
     "output_type": "execute_result"
    }
   ],
   "source": [
    "n[0:3,3:5]"
   ]
  },
  {
   "cell_type": "code",
   "execution_count": 12,
   "id": "5d58dbd3",
   "metadata": {},
   "outputs": [
    {
     "data": {
      "text/plain": [
       "array([84, 53, 87, 52, 72, 53, 60, 90, 94, 59, 92, 54, 84], dtype=int32)"
      ]
     },
     "execution_count": 12,
     "metadata": {},
     "output_type": "execute_result"
    }
   ],
   "source": [
    "n[n>50]"
   ]
  },
  {
   "cell_type": "code",
   "execution_count": 13,
   "id": "f46229fb",
   "metadata": {},
   "outputs": [
    {
     "data": {
      "text/plain": [
       "array([ 8, 18, 25, 10, 26, 24, 42, 22, 43, 11, 43, 16], dtype=int32)"
      ]
     },
     "execution_count": 13,
     "metadata": {},
     "output_type": "execute_result"
    }
   ],
   "source": [
    "n[n<50]"
   ]
  },
  {
   "cell_type": "code",
   "execution_count": 14,
   "id": "6a990b1c",
   "metadata": {},
   "outputs": [
    {
     "data": {
      "text/plain": [
       "array([84, 53,  8, 18, 87, 52, 72, 53, 25, 60, 10, 90, 26, 24, 94, 42, 22,\n",
       "       43, 11, 59, 43, 92, 54, 16, 84], dtype=int32)"
      ]
     },
     "execution_count": 14,
     "metadata": {},
     "output_type": "execute_result"
    }
   ],
   "source": [
    "n[n!=50]"
   ]
  }
 ],
 "metadata": {
  "kernelspec": {
   "display_name": "Python 3",
   "language": "python",
   "name": "python3"
  },
  "language_info": {
   "codemirror_mode": {
    "name": "ipython",
    "version": 3
   },
   "file_extension": ".py",
   "mimetype": "text/x-python",
   "name": "python",
   "nbconvert_exporter": "python",
   "pygments_lexer": "ipython3",
   "version": "3.13.5"
  }
 },
 "nbformat": 4,
 "nbformat_minor": 5
}
