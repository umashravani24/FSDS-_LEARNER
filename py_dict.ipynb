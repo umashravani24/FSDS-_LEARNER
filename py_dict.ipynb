{
 "cells": [
  {
   "cell_type": "code",
   "execution_count": 155,
   "id": "704a7286",
   "metadata": {},
   "outputs": [
    {
     "data": {
      "text/plain": [
       "{}"
      ]
     },
     "execution_count": 155,
     "metadata": {},
     "output_type": "execute_result"
    }
   ],
   "source": [
    "d={}\n",
    "d"
   ]
  },
  {
   "cell_type": "code",
   "execution_count": 156,
   "id": "37ef4d73",
   "metadata": {},
   "outputs": [
    {
     "data": {
      "text/plain": [
       "dict"
      ]
     },
     "execution_count": 156,
     "metadata": {},
     "output_type": "execute_result"
    }
   ],
   "source": [
    "type(d)"
   ]
  },
  {
   "cell_type": "code",
   "execution_count": 157,
   "id": "e8d23829",
   "metadata": {},
   "outputs": [
    {
     "data": {
      "text/plain": [
       "{1: 'one', 2: 'two', 3: 'three'}"
      ]
     },
     "execution_count": 157,
     "metadata": {},
     "output_type": "execute_result"
    }
   ],
   "source": [
    "d1={1:'one',2:'two',3:'three'}\n",
    "d1"
   ]
  },
  {
   "cell_type": "code",
   "execution_count": 158,
   "id": "cd9d494f",
   "metadata": {},
   "outputs": [
    {
     "data": {
      "text/plain": [
       "dict_keys([1, 2, 3])"
      ]
     },
     "execution_count": 158,
     "metadata": {},
     "output_type": "execute_result"
    }
   ],
   "source": [
    "d1.keys()"
   ]
  },
  {
   "cell_type": "code",
   "execution_count": 159,
   "id": "c3ab052d",
   "metadata": {},
   "outputs": [
    {
     "data": {
      "text/plain": [
       "dict_values(['one', 'two', 'three'])"
      ]
     },
     "execution_count": 159,
     "metadata": {},
     "output_type": "execute_result"
    }
   ],
   "source": [
    "d1.values()"
   ]
  },
  {
   "cell_type": "code",
   "execution_count": 160,
   "id": "cbfe9476",
   "metadata": {},
   "outputs": [
    {
     "data": {
      "text/plain": [
       "dict_items([(1, 'one'), (2, 'two'), (3, 'three')])"
      ]
     },
     "execution_count": 160,
     "metadata": {},
     "output_type": "execute_result"
    }
   ],
   "source": [
    "d1.items()"
   ]
  },
  {
   "cell_type": "code",
   "execution_count": 161,
   "id": "64da926f",
   "metadata": {},
   "outputs": [
    {
     "data": {
      "text/plain": [
       "3"
      ]
     },
     "execution_count": 161,
     "metadata": {},
     "output_type": "execute_result"
    }
   ],
   "source": [
    "len(d1)"
   ]
  },
  {
   "cell_type": "code",
   "execution_count": 162,
   "id": "72b881a3",
   "metadata": {},
   "outputs": [
    {
     "data": {
      "text/plain": [
       "{1: 'one', 'A': 'two', 'C': ['three', 'four', 'five']}"
      ]
     },
     "execution_count": 162,
     "metadata": {},
     "output_type": "execute_result"
    }
   ],
   "source": [
    "d1={1:'one','A':'two','C':['three','four','five']}\n",
    "d1"
   ]
  },
  {
   "cell_type": "code",
   "execution_count": 163,
   "id": "002e02c0",
   "metadata": {},
   "outputs": [
    {
     "data": {
      "text/plain": [
       "{1: 'one',\n",
       " 'A': 'two',\n",
       " 'C': ['three', 'four', 'five'],\n",
       " 'D': ['six', 'seven', 'eight']}"
      ]
     },
     "execution_count": 163,
     "metadata": {},
     "output_type": "execute_result"
    }
   ],
   "source": [
    "d1={1:'one','A':'two','C':['three','four','five'],'D':['six','seven','eight']}\n",
    "d1"
   ]
  },
  {
   "cell_type": "code",
   "execution_count": 164,
   "id": "bca09572",
   "metadata": {},
   "outputs": [
    {
     "data": {
      "text/plain": [
       "{1: 'one',\n",
       " 'A': 'two',\n",
       " 'C': {'five', 'four', 'three'},\n",
       " 'D': ('six', 'seven', 'eight')}"
      ]
     },
     "execution_count": 164,
     "metadata": {},
     "output_type": "execute_result"
    }
   ],
   "source": [
    "d1={1:'one','A':'two','C':{'three','four','five'},'D':('six','seven','eight')}\n",
    "d1\n"
   ]
  },
  {
   "cell_type": "code",
   "execution_count": 165,
   "id": "6d8ca965",
   "metadata": {},
   "outputs": [
    {
     "data": {
      "text/plain": [
       "{'d': None, 'a': None, 'c': None, 'b': None}"
      ]
     },
     "execution_count": 165,
     "metadata": {},
     "output_type": "execute_result"
    }
   ],
   "source": [
    "keys={'a','b','c','d'}\n",
    "d2=dict.fromkeys(keys)\n",
    "d2"
   ]
  },
  {
   "cell_type": "code",
   "execution_count": 166,
   "id": "319a9e45",
   "metadata": {},
   "outputs": [
    {
     "data": {
      "text/plain": [
       "{'d': 10, 'a': 10, 'c': 10, 'b': 10}"
      ]
     },
     "execution_count": 166,
     "metadata": {},
     "output_type": "execute_result"
    }
   ],
   "source": [
    "keys={'a','b','c','d'}\n",
    "value=10\n",
    "d2=dict.fromkeys(keys,value)\n",
    "d2"
   ]
  },
  {
   "cell_type": "code",
   "execution_count": 167,
   "id": "f5e770e7",
   "metadata": {},
   "outputs": [
    {
     "data": {
      "text/plain": [
       "{'d': [10, 20, 30], 'a': [10, 20, 30], 'c': [10, 20, 30], 'b': [10, 20, 30]}"
      ]
     },
     "execution_count": 167,
     "metadata": {},
     "output_type": "execute_result"
    }
   ],
   "source": [
    "keys={'a','b','c','d'}\n",
    "value=[10,20,30]\n",
    "d2=dict.fromkeys(keys,value)\n",
    "d2"
   ]
  },
  {
   "cell_type": "code",
   "execution_count": 168,
   "id": "69fff3b5",
   "metadata": {},
   "outputs": [
    {
     "data": {
      "text/plain": [
       "{'d': [10, 20, 30, 50],\n",
       " 'a': [10, 20, 30, 50],\n",
       " 'c': [10, 20, 30, 50],\n",
       " 'b': [10, 20, 30, 50]}"
      ]
     },
     "execution_count": 168,
     "metadata": {},
     "output_type": "execute_result"
    }
   ],
   "source": [
    "value.append(50)\n",
    "d2"
   ]
  },
  {
   "cell_type": "code",
   "execution_count": 169,
   "id": "a3cd5838",
   "metadata": {},
   "outputs": [
    {
     "data": {
      "text/plain": [
       "{1: 'one',\n",
       " 'A': 'two',\n",
       " 'C': {'five', 'four', 'three'},\n",
       " 'D': ('six', 'seven', 'eight')}"
      ]
     },
     "execution_count": 169,
     "metadata": {},
     "output_type": "execute_result"
    }
   ],
   "source": [
    "d1"
   ]
  },
  {
   "cell_type": "code",
   "execution_count": 170,
   "id": "71e18a4e",
   "metadata": {},
   "outputs": [
    {
     "data": {
      "text/plain": [
       "'two'"
      ]
     },
     "execution_count": 170,
     "metadata": {},
     "output_type": "execute_result"
    }
   ],
   "source": [
    "d1['A']"
   ]
  },
  {
   "cell_type": "code",
   "execution_count": 171,
   "id": "a44dbdc5",
   "metadata": {},
   "outputs": [
    {
     "data": {
      "text/plain": [
       "('six', 'seven', 'eight')"
      ]
     },
     "execution_count": 171,
     "metadata": {},
     "output_type": "execute_result"
    }
   ],
   "source": [
    "d1['D']"
   ]
  },
  {
   "cell_type": "code",
   "execution_count": 172,
   "id": "a62c4a38",
   "metadata": {},
   "outputs": [
    {
     "data": {
      "text/plain": [
       "{'five', 'four', 'three'}"
      ]
     },
     "execution_count": 172,
     "metadata": {},
     "output_type": "execute_result"
    }
   ],
   "source": [
    "d1.get('C')"
   ]
  },
  {
   "cell_type": "code",
   "execution_count": 173,
   "id": "bd059bce",
   "metadata": {},
   "outputs": [
    {
     "data": {
      "text/plain": [
       "{1: 'one',\n",
       " 'A': 'two',\n",
       " 'C': {'five', 'four', 'three'},\n",
       " 'D': ('six', 'seven', 'eight'),\n",
       " 'E': 'nine',\n",
       " 'F': 10}"
      ]
     },
     "execution_count": 173,
     "metadata": {},
     "output_type": "execute_result"
    }
   ],
   "source": [
    "d1['E']='nine'\n",
    "d1['F']=10\n",
    "d1"
   ]
  },
  {
   "cell_type": "code",
   "execution_count": 174,
   "id": "599a077c",
   "metadata": {},
   "outputs": [
    {
     "data": {
      "text/plain": [
       "{1: 'one',\n",
       " 'A': 'two',\n",
       " 'C': {4, 5, 6},\n",
       " 'D': ('six', 'seven', 'eight'),\n",
       " 'E': 'nine',\n",
       " 'F': 10}"
      ]
     },
     "execution_count": 174,
     "metadata": {},
     "output_type": "execute_result"
    }
   ],
   "source": [
    "d1['C']={4,5,6}\n",
    "d1"
   ]
  },
  {
   "cell_type": "code",
   "execution_count": 175,
   "id": "b3262625",
   "metadata": {},
   "outputs": [
    {
     "data": {
      "text/plain": [
       "{1: 'one',\n",
       " 'A': 'two',\n",
       " 'C': {4, 5, 6},\n",
       " 'D': ('six', 'seven', 'eight'),\n",
       " 'E': 'nine'}"
      ]
     },
     "execution_count": 175,
     "metadata": {},
     "output_type": "execute_result"
    }
   ],
   "source": [
    "d1.pop('F')\n",
    "d1"
   ]
  },
  {
   "cell_type": "code",
   "execution_count": 176,
   "id": "3ea24fe1",
   "metadata": {},
   "outputs": [
    {
     "data": {
      "text/plain": [
       "('E', 'nine')"
      ]
     },
     "execution_count": 176,
     "metadata": {},
     "output_type": "execute_result"
    }
   ],
   "source": [
    "d1.popitem()"
   ]
  },
  {
   "cell_type": "code",
   "execution_count": 177,
   "id": "d177b3b1",
   "metadata": {},
   "outputs": [
    {
     "data": {
      "text/plain": [
       "{1: 'one', 'A': 'two', 'C': {4, 5, 6}, 'D': ('six', 'seven', 'eight')}"
      ]
     },
     "execution_count": 177,
     "metadata": {},
     "output_type": "execute_result"
    }
   ],
   "source": [
    "d1"
   ]
  },
  {
   "cell_type": "code",
   "execution_count": 178,
   "id": "664ad6c0",
   "metadata": {},
   "outputs": [
    {
     "data": {
      "text/plain": [
       "{}"
      ]
     },
     "execution_count": 178,
     "metadata": {},
     "output_type": "execute_result"
    }
   ],
   "source": [
    "d1.clear()\n",
    "d1"
   ]
  },
  {
   "cell_type": "code",
   "execution_count": 179,
   "id": "6faf4079",
   "metadata": {},
   "outputs": [
    {
     "ename": "NameError",
     "evalue": "name 'd1' is not defined",
     "output_type": "error",
     "traceback": [
      "\u001b[31m---------------------------------------------------------------------------\u001b[39m",
      "\u001b[31mNameError\u001b[39m                                 Traceback (most recent call last)",
      "\u001b[36mCell\u001b[39m\u001b[36m \u001b[39m\u001b[32mIn[179]\u001b[39m\u001b[32m, line 2\u001b[39m\n\u001b[32m      1\u001b[39m \u001b[38;5;28;01mdel\u001b[39;00m d1\n\u001b[32m----> \u001b[39m\u001b[32m2\u001b[39m \u001b[43md1\u001b[49m\n",
      "\u001b[31mNameError\u001b[39m: name 'd1' is not defined"
     ]
    }
   ],
   "source": [
    "del d1\n",
    "d1"
   ]
  },
  {
   "cell_type": "code",
   "execution_count": null,
   "id": "903bb025",
   "metadata": {},
   "outputs": [
    {
     "data": {
      "text/plain": [
       "{'b': [10, 20, 30, 50],\n",
       " 'c': [10, 20, 30, 50],\n",
       " 'a': [10, 20, 30, 50],\n",
       " 'd': [10, 20, 30, 50]}"
      ]
     },
     "execution_count": 25,
     "metadata": {},
     "output_type": "execute_result"
    }
   ],
   "source": [
    "d2"
   ]
  },
  {
   "cell_type": "code",
   "execution_count": null,
   "id": "f4c5244a",
   "metadata": {},
   "outputs": [],
   "source": [
    "d1=d2"
   ]
  },
  {
   "cell_type": "code",
   "execution_count": null,
   "id": "2026a10b",
   "metadata": {},
   "outputs": [
    {
     "data": {
      "text/plain": [
       "{'b': [10, 20, 30, 50],\n",
       " 'c': [10, 20, 30, 50],\n",
       " 'a': [10, 20, 30, 50],\n",
       " 'd': [10, 20, 30, 50]}"
      ]
     },
     "execution_count": 27,
     "metadata": {},
     "output_type": "execute_result"
    }
   ],
   "source": [
    "d1"
   ]
  },
  {
   "cell_type": "code",
   "execution_count": null,
   "id": "1521c523",
   "metadata": {},
   "outputs": [
    {
     "data": {
      "text/plain": [
       "{'d': [10, 20, 30, 50],\n",
       " 'a': [10, 20, 30, 50],\n",
       " 'c': [10, 20, 30, 50],\n",
       " 'b': [10, 20, 30, 50]}"
      ]
     },
     "execution_count": 104,
     "metadata": {},
     "output_type": "execute_result"
    }
   ],
   "source": [
    "d2"
   ]
  },
  {
   "cell_type": "code",
   "execution_count": null,
   "id": "36ab1dd3",
   "metadata": {},
   "outputs": [
    {
     "data": {
      "text/plain": [
       "{'d': [10, 20, 30, 50],\n",
       " 'a': [10, 20, 30, 50],\n",
       " 'c': [10, 20, 30, 50],\n",
       " 'b': [10, 20, 30, 50]}"
      ]
     },
     "execution_count": 106,
     "metadata": {},
     "output_type": "execute_result"
    }
   ],
   "source": [
    "d1=d2\n",
    "d1"
   ]
  },
  {
   "cell_type": "code",
   "execution_count": null,
   "id": "f5544477",
   "metadata": {},
   "outputs": [
    {
     "data": {
      "text/plain": [
       "True"
      ]
     },
     "execution_count": 108,
     "metadata": {},
     "output_type": "execute_result"
    }
   ],
   "source": [
    "id(d1)==id(d2)"
   ]
  },
  {
   "cell_type": "code",
   "execution_count": null,
   "id": "e9053bfa",
   "metadata": {},
   "outputs": [
    {
     "data": {
      "text/plain": [
       "(2719496989696, 2719496989696)"
      ]
     },
     "execution_count": 109,
     "metadata": {},
     "output_type": "execute_result"
    }
   ],
   "source": [
    "id(d1),id(d2)"
   ]
  },
  {
   "cell_type": "code",
   "execution_count": null,
   "id": "6a8e4b29",
   "metadata": {},
   "outputs": [
    {
     "data": {
      "text/plain": [
       "{'d': [10, 20, 30, 50],\n",
       " 'a': [10, 20, 30, 50],\n",
       " 'c': [10, 20, 30, 50],\n",
       " 'b': [10, 20, 30, 50]}"
      ]
     },
     "execution_count": 110,
     "metadata": {},
     "output_type": "execute_result"
    }
   ],
   "source": [
    "d2"
   ]
  },
  {
   "cell_type": "code",
   "execution_count": null,
   "id": "ddd53146",
   "metadata": {},
   "outputs": [],
   "source": [
    "d3=d2.copy()"
   ]
  },
  {
   "cell_type": "code",
   "execution_count": null,
   "id": "ded4d757",
   "metadata": {},
   "outputs": [
    {
     "data": {
      "text/plain": [
       "{'d': [10, 20, 30, 50],\n",
       " 'a': [10, 20, 30, 50],\n",
       " 'c': [10, 20, 30, 50],\n",
       " 'b': [10, 20, 30, 50]}"
      ]
     },
     "execution_count": 112,
     "metadata": {},
     "output_type": "execute_result"
    }
   ],
   "source": [
    "d3"
   ]
  },
  {
   "cell_type": "code",
   "execution_count": null,
   "id": "8dca8432",
   "metadata": {},
   "outputs": [
    {
     "data": {
      "text/plain": [
       "False"
      ]
     },
     "execution_count": 113,
     "metadata": {},
     "output_type": "execute_result"
    }
   ],
   "source": [
    "id(d3)==id(d2)"
   ]
  },
  {
   "cell_type": "code",
   "execution_count": null,
   "id": "55568759",
   "metadata": {},
   "outputs": [
    {
     "data": {
      "text/plain": [
       "(2719496557120, 2719496989696)"
      ]
     },
     "execution_count": 114,
     "metadata": {},
     "output_type": "execute_result"
    }
   ],
   "source": [
    "id(d3),id(d2)"
   ]
  },
  {
   "cell_type": "code",
   "execution_count": null,
   "id": "b4ab5ff0",
   "metadata": {},
   "outputs": [],
   "source": [
    "d3['c']='pyhton'"
   ]
  },
  {
   "cell_type": "code",
   "execution_count": null,
   "id": "090276c8",
   "metadata": {},
   "outputs": [
    {
     "data": {
      "text/plain": [
       "{'d': [10, 20, 30, 50],\n",
       " 'a': [10, 20, 30, 50],\n",
       " 'c': 'pyhton',\n",
       " 'b': [10, 20, 30, 50]}"
      ]
     },
     "execution_count": 116,
     "metadata": {},
     "output_type": "execute_result"
    }
   ],
   "source": [
    "d3"
   ]
  },
  {
   "cell_type": "code",
   "execution_count": null,
   "id": "2bb1bb90",
   "metadata": {},
   "outputs": [
    {
     "data": {
      "text/plain": [
       "{1: 'one', 2: 'two', 3: 'three', 4: 'four', 5: 'five'}"
      ]
     },
     "execution_count": 121,
     "metadata": {},
     "output_type": "execute_result"
    }
   ],
   "source": [
    "d4={1:'one',2:'two',3:'three',4:'four',5:'five'}\n",
    "d4"
   ]
  },
  {
   "cell_type": "code",
   "execution_count": null,
   "id": "11310a71",
   "metadata": {},
   "outputs": [
    {
     "data": {
      "text/plain": [
       "{1: 'one', 2: 'two', 3: 'three', 4: 'four', 5: 'five'}"
      ]
     },
     "execution_count": 123,
     "metadata": {},
     "output_type": "execute_result"
    }
   ],
   "source": [
    "d4"
   ]
  },
  {
   "cell_type": "code",
   "execution_count": null,
   "id": "1b13c612",
   "metadata": {},
   "outputs": [
    {
     "name": "stdout",
     "output_type": "stream",
     "text": [
      "one\n",
      "two\n",
      "three\n",
      "four\n",
      "five\n"
     ]
    }
   ],
   "source": [
    "for i in d4:\n",
    "    print(d4[i])"
   ]
  },
  {
   "cell_type": "code",
   "execution_count": null,
   "id": "440adaf5",
   "metadata": {},
   "outputs": [
    {
     "name": "stdout",
     "output_type": "stream",
     "text": [
      "1 : one\n",
      "2 : two\n",
      "3 : three\n",
      "4 : four\n",
      "5 : five\n"
     ]
    }
   ],
   "source": [
    "for i in d4:\n",
    "    print(i,':',d4[i])"
   ]
  },
  {
   "cell_type": "code",
   "execution_count": null,
   "id": "739f0455",
   "metadata": {},
   "outputs": [
    {
     "data": {
      "text/plain": [
       "True"
      ]
     },
     "execution_count": 126,
     "metadata": {},
     "output_type": "execute_result"
    }
   ],
   "source": [
    "1 in d4"
   ]
  },
  {
   "cell_type": "code",
   "execution_count": null,
   "id": "2c90ed03",
   "metadata": {},
   "outputs": [
    {
     "data": {
      "text/plain": [
       "False"
      ]
     },
     "execution_count": 127,
     "metadata": {},
     "output_type": "execute_result"
    }
   ],
   "source": [
    "'four' in d4"
   ]
  },
  {
   "cell_type": "code",
   "execution_count": null,
   "id": "652b24e1",
   "metadata": {},
   "outputs": [
    {
     "data": {
      "text/plain": [
       "True"
      ]
     },
     "execution_count": 128,
     "metadata": {},
     "output_type": "execute_result"
    }
   ],
   "source": [
    "all(d4)"
   ]
  },
  {
   "cell_type": "code",
   "execution_count": null,
   "id": "4bc5df6f",
   "metadata": {},
   "outputs": [
    {
     "data": {
      "text/plain": [
       "True"
      ]
     },
     "execution_count": 129,
     "metadata": {},
     "output_type": "execute_result"
    }
   ],
   "source": [
    "any(d4)"
   ]
  }
 ],
 "metadata": {
  "kernelspec": {
   "display_name": "Python 3",
   "language": "python",
   "name": "python3"
  },
  "language_info": {
   "codemirror_mode": {
    "name": "ipython",
    "version": 3
   },
   "file_extension": ".py",
   "mimetype": "text/x-python",
   "name": "python",
   "nbconvert_exporter": "python",
   "pygments_lexer": "ipython3",
   "version": "3.13.5"
  }
 },
 "nbformat": 4,
 "nbformat_minor": 5
}
