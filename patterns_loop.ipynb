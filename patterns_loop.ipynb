{
 "cells": [
  {
   "cell_type": "markdown",
   "id": "d7ab24ee",
   "metadata": {},
   "source": [
    "                     Patterns in  python loops"
   ]
  },
  {
   "cell_type": "code",
   "execution_count": 1,
   "id": "59e139a8",
   "metadata": {},
   "outputs": [
    {
     "name": "stdout",
     "output_type": "stream",
     "text": [
      " * \n",
      " *  * \n",
      " *  *  * \n",
      " *  *  *  * \n",
      " *  *  *  *  * \n"
     ]
    }
   ],
   "source": [
    "#right angle triangle pattern\n",
    "for i in range(1,6):\n",
    "    print(' * '*i)"
   ]
  },
  {
   "cell_type": "code",
   "execution_count": 2,
   "id": "6c74c54d",
   "metadata": {},
   "outputs": [
    {
     "name": "stdout",
     "output_type": "stream",
     "text": [
      " # # # # #\n",
      " # # # #\n",
      " # # #\n",
      " # #\n",
      " #\n"
     ]
    }
   ],
   "source": [
    "# invert right angle triangle pattern\n",
    "for i in range(5,0,-1):\n",
    "    print(' #'*i)\n",
    "    "
   ]
  },
  {
   "cell_type": "code",
   "execution_count": null,
   "id": "e39c4c36",
   "metadata": {},
   "outputs": [
    {
     "name": "stdout",
     "output_type": "stream",
     "text": [
      " & \n",
      " &  &  & \n",
      " &  &  &  &  & \n",
      " &  &  &  &  &  &  & \n",
      " &  &  &  &  &  &  &  &  & \n"
     ]
    }
   ],
   "source": [
    "#pyramid pattern\n",
    "for i in range(1,6):\n",
    "    print(''*(5-i)+'  & '*(2*i-1))\n",
    "    "
   ]
  },
  {
   "cell_type": "code",
   "execution_count": 7,
   "id": "c0f5a8c0",
   "metadata": {},
   "outputs": [
    {
     "name": "stdout",
     "output_type": "stream",
     "text": [
      " &  &  &  &  &  &  &  &  & \n",
      " &  &  &  &  &  &  & \n",
      " &  &  &  &  & \n",
      " &  &  & \n",
      " & \n"
     ]
    }
   ],
   "source": [
    "# inverted pyramid pattern\n",
    "for i in range(5,0,-1):\n",
    "    print(''*(5-i)+' & '*(2*i-1))"
   ]
  },
  {
   "cell_type": "code",
   "execution_count": 13,
   "id": "69a06a02",
   "metadata": {},
   "outputs": [
    {
     "name": "stdout",
     "output_type": "stream",
     "text": [
      "  D \n",
      "  D   D   D \n",
      "  D   D   D   D   D \n",
      "  D   D   D   D   D   D   D \n",
      "  D   D   D   D   D   D   D   D   D \n",
      "  D   D   D   D   D   D   D \n",
      "  D   D   D   D   D \n",
      "  D   D   D \n",
      "  D \n"
     ]
    }
   ],
   "source": [
    "# diamond pattern\n",
    "for i in range(1,6):\n",
    "    print(''*(5-i)+'  D '*(2*i-1))\n",
    "for i in range(4,0,-1):\n",
    "    print(''*(5-i)+'  D '*(2*i-1))\n",
    "     "
   ]
  },
  {
   "cell_type": "code",
   "execution_count": 18,
   "id": "ff3ef4ff",
   "metadata": {},
   "outputs": [
    {
     "name": "stdout",
     "output_type": "stream",
     "text": [
      "sssss\n",
      "s   s\n",
      "s   s\n",
      "s   s\n",
      "sssss\n"
     ]
    }
   ],
   "source": [
    "#hallow square pattern\n",
    "for i in range (5):\n",
    "    for j in range(5):\n",
    "        if i==0 or i==4 or j==0 or j==4:\n",
    "            print('s', end='')\n",
    "        else:\n",
    "            print(' ',end='')\n",
    "    print()        "
   ]
  },
  {
   "cell_type": "code",
   "execution_count": 19,
   "id": "fcd78097",
   "metadata": {},
   "outputs": [
    {
     "name": "stdout",
     "output_type": "stream",
     "text": [
      " #  #  #  #  # \n",
      " #  #  #  #  # \n",
      " #  #  #  #  # \n",
      " #  #  #  #  # \n",
      " #  #  #  #  # \n"
     ]
    }
   ],
   "source": [
    "#full square pattern\n",
    "for i in range(5):\n",
    "    print(' # '*5)"
   ]
  },
  {
   "cell_type": "code",
   "execution_count": 20,
   "id": "2f6d1fec",
   "metadata": {},
   "outputs": [
    {
     "name": "stdout",
     "output_type": "stream",
     "text": [
      "* \n",
      "* * \n",
      "*   * \n",
      "*     * \n",
      "* * * * * \n"
     ]
    }
   ],
   "source": [
    "# hallow right angle triangle pattern\n",
    "for i in range(1,6):\n",
    "    for j in range(1,i+1):\n",
    "        if j==1 or j==i or i==5:\n",
    "            print('*',end=' ')\n",
    "        else:\n",
    "            print(' ',end=' ')\n",
    "    print()"
   ]
  },
  {
   "cell_type": "code",
   "execution_count": null,
   "id": "4fad6ffc",
   "metadata": {},
   "outputs": [],
   "source": []
  },
  {
   "cell_type": "code",
   "execution_count": null,
   "id": "7d5f1faa",
   "metadata": {},
   "outputs": [],
   "source": []
  }
 ],
 "metadata": {
  "kernelspec": {
   "display_name": "Python 3",
   "language": "python",
   "name": "python3"
  },
  "language_info": {
   "codemirror_mode": {
    "name": "ipython",
    "version": 3
   },
   "file_extension": ".py",
   "mimetype": "text/x-python",
   "name": "python",
   "nbconvert_exporter": "python",
   "pygments_lexer": "ipython3",
   "version": "3.13.5"
  }
 },
 "nbformat": 4,
 "nbformat_minor": 5
}
