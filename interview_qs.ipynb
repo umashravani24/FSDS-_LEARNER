{
 "cells": [
  {
   "cell_type": "code",
   "execution_count": 2,
   "id": "0fcb17b6",
   "metadata": {},
   "outputs": [
    {
     "name": "stdout",
     "output_type": "stream",
     "text": [
      "25\n"
     ]
    }
   ],
   "source": [
    "#91. program to print value of age\n",
    "age = 25\n",
    "print(age)"
   ]
  },
  {
   "cell_type": "code",
   "execution_count": 4,
   "id": "56dd7a07",
   "metadata": {},
   "outputs": [
    {
     "name": "stdout",
     "output_type": "stream",
     "text": [
      "the value of number=  20 and  (number-1)=  19\n"
     ]
    }
   ],
   "source": [
    "# 92 program to print value of number-1\n",
    "number=20\n",
    "print(\"the value of number= \",number,\"and  (number-1)= \",number-1)"
   ]
  },
  {
   "cell_type": "code",
   "execution_count": 5,
   "id": "0972fe45",
   "metadata": {},
   "outputs": [
    {
     "name": "stdout",
     "output_type": "stream",
     "text": [
      "the sum of  23 and 20 is= 43\n"
     ]
    }
   ],
   "source": [
    "#94 program for addition of two variables a&b\n",
    "a=23\n",
    "b=20\n",
    "print(\"the sum of \",a,\"and\",b,\"is=\",a+b )"
   ]
  },
  {
   "cell_type": "code",
   "execution_count": 6,
   "id": "780d5ebe",
   "metadata": {},
   "outputs": [
    {
     "name": "stdout",
     "output_type": "stream",
     "text": [
      "the area of rectangle with lenght =  45 and width =  76 is =  3420\n"
     ]
    }
   ],
   "source": [
    "#95 program for area of rectangle\n",
    "lenght=45\n",
    "width=76\n",
    "print(\"the area of rectangle with lenght = \",lenght,\"and width = \",width,\"is = \",lenght*width)"
   ]
  },
  {
   "cell_type": "code",
   "execution_count": null,
   "id": "9b1bc4c3",
   "metadata": {},
   "outputs": [
    {
     "name": "stdout",
     "output_type": "stream",
     "text": [
      "248.71940000000004\n"
     ]
    }
   ],
   "source": [
    "#96 program for area of circle\n",
    "radious= 8.9\n",
    "pi=3.14\n",
    "area=pi*radious*radious\n",
    "print(area)"
   ]
  },
  {
   "cell_type": "code",
   "execution_count": 9,
   "id": "17f20027",
   "metadata": {},
   "outputs": [
    {
     "name": "stdout",
     "output_type": "stream",
     "text": [
      "Learnig is fun!\n"
     ]
    }
   ],
   "source": [
    "#97 program on string\n",
    "a=\"Learnig \"\n",
    "b=\"is fun!\"\n",
    "print(a+b)"
   ]
  }
 ],
 "metadata": {
  "kernelspec": {
   "display_name": "Python 3",
   "language": "python",
   "name": "python3"
  },
  "language_info": {
   "codemirror_mode": {
    "name": "ipython",
    "version": 3
   },
   "file_extension": ".py",
   "mimetype": "text/x-python",
   "name": "python",
   "nbconvert_exporter": "python",
   "pygments_lexer": "ipython3",
   "version": "3.13.5"
  }
 },
 "nbformat": 4,
 "nbformat_minor": 5
}
